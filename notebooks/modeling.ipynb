{
 "cells": [
  {
   "cell_type": "code",
   "execution_count": 1,
   "id": "ea71e92b-06d4-4742-8aab-d9c6b556e10e",
   "metadata": {},
   "outputs": [
    {
     "name": "stdout",
     "output_type": "stream",
     "text": [
      "Shape of DataFrame: (771456, 39)\n"
     ]
    }
   ],
   "source": [
    "from pyspark.sql import SparkSession\n",
    "from pyspark.sql.functions import col, year, month, dayofmonth, hour, minute, sin, cos, radians\n",
    "from pyspark.ml.feature import StandardScaler, MinMaxScaler\n",
    "from pyspark.ml.feature import VectorAssembler\n",
    "from pyspark.ml import Pipeline\n",
    "from pyspark.ml.feature import OneHotEncoder\n",
    "from pyspark.ml import Pipeline\n",
    "from pyspark.sql.functions import udf\n",
    "from pyspark.sql.types import DoubleType\n",
    "import pyspark.sql.functions as F\n",
    "import os\n",
    "\n",
    "# A function to run commands\n",
    "def run(command):\n",
    "    return os.popen(command).read()\n",
    "\n",
    "\n",
    "team = 29\n",
    "\n",
    "# location of your Hive database in HDFS\n",
    "warehouse = \"project/hive/warehouse\"\n",
    "\n",
    "spark = SparkSession.builder\\\n",
    "        .appName(\"{} - spark ML\".format(team))\\\n",
    "        .config(\"hive.metastore.uris\", \"thrift://hadoop-02.uni.innopolis.ru:9883\")\\\n",
    "        .config(\"spark.sql.warehouse.dir\", warehouse)\\\n",
    "        .config(\"spark.sql.avro.compression.codec\", \"snappy\")\\\n",
    "        .enableHiveSupport()\\\n",
    "        .getOrCreate()\n",
    "\n",
    "\n",
    "table_name = \"team29_projectdb.dataset_prepared_for_modeling\"\n",
    "df = spark.read.table(table_name)\n",
    "\n",
    "\n",
    "print(\"Shape of DataFrame: ({}, {})\".format(df.count(), len(df.columns)))"
   ]
  },
  {
   "cell_type": "code",
   "execution_count": 2,
   "id": "5d1c983c-586d-472f-b517-dcf548d2620c",
   "metadata": {},
   "outputs": [
    {
     "name": "stdout",
     "output_type": "stream",
     "text": [
      "root\n",
      " |-- 3: integer (nullable = true)\n",
      " |-- 4: integer (nullable = true)\n",
      " |-- 8: integer (nullable = true)\n",
      " |-- 6: integer (nullable = true)\n",
      " |-- 5: integer (nullable = true)\n",
      " |-- 7: integer (nullable = true)\n",
      " |-- 1: integer (nullable = true)\n",
      " |-- 2: integer (nullable = true)\n",
      " |-- total_snow: decimal(10,5) (nullable = true)\n",
      " |-- sun_hour_Scaled: double (nullable = true)\n",
      " |-- uv_index_1_Scaled: double (nullable = true)\n",
      " |-- uv_index_2_Scaled: double (nullable = true)\n",
      " |-- moon_illumunation_Scaled: double (nullable = true)\n",
      " |-- dew_point_Scaled: double (nullable = true)\n",
      " |-- wind_gust_Scaled: double (nullable = true)\n",
      " |-- cloudcover_Scaled: double (nullable = true)\n",
      " |-- humidity_Scaled: double (nullable = true)\n",
      " |-- visibility_Scaled: double (nullable = true)\n",
      " |-- wind_speed_Scaled: double (nullable = true)\n",
      " |-- max_temp_Scaled: double (nullable = true)\n",
      " |-- min_temp_Scaled: double (nullable = true)\n",
      " |-- feels_like_Scaled: double (nullable = true)\n",
      " |-- heat_index_Scaled: double (nullable = true)\n",
      " |-- wind_chill_Scaled: double (nullable = true)\n",
      " |-- precip_Scaled: double (nullable = true)\n",
      " |-- pressure_Scaled: double (nullable = true)\n",
      " |-- temp_Scaled: double (nullable = true)\n",
      " |-- wind_dir_sin: double (nullable = true)\n",
      " |-- wind_dir_cos: double (nullable = true)\n",
      " |-- date_time_year_sin: double (nullable = true)\n",
      " |-- date_time_year_cos: double (nullable = true)\n",
      " |-- date_time_month_sin: double (nullable = true)\n",
      " |-- date_time_month_cos: double (nullable = true)\n",
      " |-- date_time_day_sin: double (nullable = true)\n",
      " |-- date_time_day_cos: double (nullable = true)\n",
      " |-- date_time_hour_sin: double (nullable = true)\n",
      " |-- date_time_hour_cos: double (nullable = true)\n",
      " |-- date_time_minute_sin: double (nullable = true)\n",
      " |-- date_time_minute_cos: double (nullable = true)\n",
      "\n"
     ]
    }
   ],
   "source": [
    "df.printSchema()"
   ]
  },
  {
   "cell_type": "code",
   "execution_count": 3,
   "id": "0ed77be5-f526-4563-afa4-a925e12aa880",
   "metadata": {},
   "outputs": [
    {
     "name": "stdout",
     "output_type": "stream",
     "text": [
      "Shape of DataFrame: (96432, 32)\n"
     ]
    }
   ],
   "source": [
    "CITY_TO_PREDICT = 1\n",
    "\n",
    "\n",
    "# Get only rows with column \"1\" is equal to 1\n",
    "city_df = df.filter(col(f\"{CITY_TO_PREDICT}\") == CITY_TO_PREDICT)\n",
    "\n",
    "# Drop the city encoded columns\n",
    "city_df = city_df.drop(\"1\", \"2\", \"3\", \"4\", \"5\", \"6\", \"7\", \"8\")\n",
    "\n",
    "# Create an ID column\n",
    "city_df = city_df.withColumn(\"ID\", F.monotonically_increasing_id())\n",
    "\n",
    "# show the shape\n",
    "print(\"Shape of DataFrame: ({}, {})\".format(city_df.count(), len(city_df.columns)))"
   ]
  },
  {
   "cell_type": "code",
   "execution_count": 4,
   "id": "43d6adb1-2505-4fe7-a904-37ad739e106d",
   "metadata": {},
   "outputs": [
    {
     "name": "stdout",
     "output_type": "stream",
     "text": [
      "Shape of target DataFrame: (96432, 32)\n",
      "Shape of feature DataFrame: (96432, 32)\n"
     ]
    }
   ],
   "source": [
    "# create target and feature dataframe\n",
    "\n",
    "# Target dataframe is all except first row\n",
    "city_target = city_df.filter(city_df.ID != 0)\n",
    "# Update ID to start from zero (id - 1)\n",
    "city_target = city_target.withColumn(\"ID\", city_target[\"ID\"] - 1)\n",
    "# Add \"target\" to all column names except \"ID\"\n",
    "city_target = city_target.toDF(*[\"target_\" + c if c != \"ID\" else c for c in city_target.columns])\n",
    "\n",
    "# feature dataframe is all except last row\n",
    "city_feature = city_df.filter(city_df.ID != city_df.count() - 1)\n",
    "# Add \"feature\" to all column names except \"ID\"\n",
    "city_feature = city_feature.toDF(*[\"feature_\" + c if c != \"ID\" else c for c in city_feature.columns])\n",
    "\n",
    "# show the shapes are similar\n",
    "print(\"Shape of target DataFrame: ({}, {})\".format(city_target.count(), len(city_target.columns)))\n",
    "print(\"Shape of feature DataFrame: ({}, {})\".format(city_feature.count(), len(city_feature.columns)))"
   ]
  },
  {
   "cell_type": "code",
   "execution_count": 5,
   "id": "da6280a8-2da5-4d81-bd30-917c7abad173",
   "metadata": {},
   "outputs": [
    {
     "name": "stdout",
     "output_type": "stream",
     "text": [
      "Shape of DataFrame: (96431, 63)\n"
     ]
    }
   ],
   "source": [
    "# Merge into a single dataframe on \"ID\"\n",
    "city_merged = city_target.join(city_feature, \"ID\", \"inner\")\n",
    "\n",
    "# Show the shape\n",
    "print(\"Shape of DataFrame: ({}, {})\".format(city_merged.count(), len(city_merged.columns)))"
   ]
  },
  {
   "cell_type": "markdown",
   "id": "26f32873-3d5f-4992-87f1-de657ed65472",
   "metadata": {},
   "source": [
    "# Define ensamble class model"
   ]
  },
  {
   "cell_type": "code",
   "execution_count": 6,
   "id": "81d6ccf5-c2d0-426e-97b1-1b7250c2f35b",
   "metadata": {},
   "outputs": [],
   "source": [
    "from pyspark.ml.regression import GBTRegressor, RandomForestRegressor\n",
    "from pyspark.ml.evaluation import RegressionEvaluator\n",
    "from pyspark.ml.tuning import ParamGridBuilder, CrossValidator\n",
    "from pyspark.ml.feature import VectorAssembler\n",
    "from pyspark.ml import Pipeline\n",
    "from tqdm import tqdm\n",
    "\n",
    "\n",
    "\n",
    "class Multitarget_Model:\n",
    "    def __init__(self, feature_columns, target_columns, model_type):\n",
    "        self.feature_columns = feature_columns\n",
    "        self.target_columns = target_columns\n",
    "        self.models = []\n",
    "        self.best_model = None\n",
    "        self.model_type = model_type\n",
    "\n",
    "\n",
    "    def fit(self, df, cv=False, cv_folds=3):\n",
    "        for target in tqdm(self.target_columns, desc=\"Training...\", unit=\"model\"):\n",
    "            # Define the assembler\n",
    "            assembler = VectorAssembler(inputCols=self.feature_columns, outputCol=\"features\")\n",
    "\n",
    "            # Define the primary model\n",
    "            if self.model_type == \"GBT\":\n",
    "                primary_model = GBTRegressor(featuresCol=\"features\", labelCol=target, maxIter=10)\n",
    "            elif self.model_type == \"RF\":\n",
    "                primary_model = RandomForestRegressor(featuresCol=\"features\", labelCol=target)\n",
    "            else:\n",
    "                raise ValueError(\"Model type not supported\")\n",
    "\n",
    "            # Define the pipeline\n",
    "            pipeline = Pipeline(stages=[assembler, primary_model])\n",
    "\n",
    "\n",
    "            if cv:\n",
    "                # Define the evaluator\n",
    "                evaluator = RegressionEvaluator(labelCol=target, predictionCol=\"prediction\", metricName=\"rmse\")\n",
    "\n",
    "                # Define the parameter grid\n",
    "                if self.model_type == \"GBT\":\n",
    "                    paramGrid = ParamGridBuilder() \\\n",
    "                        .addGrid(primary_model.maxDepth, [1, 3]) \\\n",
    "                        .addGrid(primary_model.maxBins, [5, 10]) \\\n",
    "                        .build()\n",
    "                elif self.model_type == \"RF\":\n",
    "                    paramGrid = ParamGridBuilder() \\\n",
    "                        .addGrid(primary_model.maxDepth, [1, 3]) \\\n",
    "                        .addGrid(primary_model.numTrees, [5, 10]) \\\n",
    "                        .build()\n",
    "                else:\n",
    "                    raise ValueError(\"Model type not supported\")\n",
    "\n",
    "                # Define the cross-validator\n",
    "                crossval = CrossValidator(estimator=pipeline,\n",
    "                                        estimatorParamMaps=paramGrid,\n",
    "                                        evaluator=evaluator,\n",
    "                                        numFolds=cv_folds)\n",
    "\n",
    "                # Fit the model\n",
    "                model = crossval.fit(df)\n",
    "\n",
    "            else:\n",
    "                # Fit the model\n",
    "                model = pipeline.fit(df)\n",
    "\n",
    "\n",
    "            # Append the model to the list of models\n",
    "            self.models.append(model)\n",
    "\n",
    "\n",
    "    def evaluate(self, df, metric):\n",
    "\n",
    "        # Create a dictionary to store the results and fill it with zeros\n",
    "        results = {target: 0 for target in self.target_columns}\n",
    "\n",
    "        for i, model in tqdm(enumerate(self.models), desc=\"Evaluating...\", unit=\"model\"):\n",
    "            # Get the target column\n",
    "            target_col = self.target_columns[i]\n",
    "\n",
    "            # Get the predictions\n",
    "            predictions = model.transform(df)\n",
    "\n",
    "            # Get the evaluator\n",
    "            evaluator = RegressionEvaluator(labelCol=target_col, predictionCol=\"prediction\", metricName=metric)\n",
    "\n",
    "            # Evaluate the model\n",
    "            result = evaluator.evaluate(predictions)\n",
    "\n",
    "            # Store the result\n",
    "            results[target_col] = result\n",
    "\n",
    "        return results\n",
    "\n",
    "\n",
    "    def predict(self, df):\n",
    "        # Create an empty dataframe to store the predictions\n",
    "        predictions = None\n",
    "\n",
    "        for i, model in tqdm(enumerate(self.models), desc=\"Predicting... \", unit=\"model\"):\n",
    "\n",
    "            # Get the predictions\n",
    "            prediction = model.transform(df)\n",
    "\n",
    "            # Select only the prediction column\n",
    "            prediction = prediction.select(\"ID\", \"prediction\")\n",
    "\n",
    "            # Rename the prediction column to the target column\n",
    "            name = self.target_columns[i].replace(\"target_\", \"prediction_\")\n",
    "            prediction = prediction.withColumnRenamed(\"prediction\", name)\n",
    "\n",
    "            # If the predictions dataframe is empty, assign the prediction dataframe to it\n",
    "            if predictions is None:\n",
    "                predictions = prediction\n",
    "\n",
    "            # Otherwise, join the prediction dataframe with the predictions dataframe\n",
    "            else:\n",
    "                predictions = predictions.join(prediction, \"ID\", \"inner\")\n",
    "\n",
    "        return predictions\n",
    "\n",
    "\n",
    "    def save(self):\n",
    "        # Save the models in location like project/models/model1/\n",
    "        for i, model in enumerate(self.models):\n",
    "            model.write().overwrite().save(f\"project/models/{self.model_type}/model_{i}\")\n",
    "\n",
    "            # Run it from root directory of the repository\n",
    "            run(f\"hdfs dfs -get project/models/{self.model_type}/model_{i} models/{self.model_type}/model_{i}\")"
   ]
  },
  {
   "cell_type": "markdown",
   "id": "90c7a727-74fa-4aff-b503-ee383ac45e9a",
   "metadata": {},
   "source": [
    "# Split Data"
   ]
  },
  {
   "cell_type": "code",
   "execution_count": 7,
   "id": "5272d3fd-9021-4e00-8231-2b7736c8cf3a",
   "metadata": {},
   "outputs": [],
   "source": [
    "# Define the feature and target columns\n",
    "feature_columns = [c for c in city_merged.columns if c.startswith(\"feature_\")]\n",
    "target_columns = [c for c in city_merged.columns if c.startswith(\"target_\")]"
   ]
  },
  {
   "cell_type": "code",
   "execution_count": 8,
   "id": "7d13cb69-d139-4626-a409-eab2acf9cdc4",
   "metadata": {
    "tags": []
   },
   "outputs": [
    {
     "data": {
      "text/plain": [
       "''"
      ]
     },
     "execution_count": 8,
     "metadata": {},
     "output_type": "execute_result"
    }
   ],
   "source": [
    "# split the data\n",
    "(train, test) = city_merged.randomSplit([0.8, 0.2], seed=10)\n",
    "\n",
    "train.coalesce(1)\\\n",
    "    .write\\\n",
    "    .mode(\"overwrite\")\\\n",
    "    .format(\"json\")\\\n",
    "    .save(\"project/data/train\")\n",
    "\n",
    "# Run it from root directory of the repository\n",
    "run(\"hdfs dfs -cat project/data/train/*.json > data/train.json\")\n",
    "\n",
    "test.coalesce(1)\\\n",
    "    .write\\\n",
    "    .mode(\"overwrite\")\\\n",
    "    .format(\"json\")\\\n",
    "    .save(\"project/data/test\")\n",
    "\n",
    "# Run it from root directory of the repository\n",
    "run(\"hdfs dfs -cat project/data/test/*.json > data/test.json\")"
   ]
  },
  {
   "cell_type": "markdown",
   "id": "7a472c9b-9f5e-44c9-8575-6ecdaca6e59b",
   "metadata": {
    "tags": []
   },
   "source": [
    "# GBT\n",
    "### Train and evaluate WITHOUT grid search"
   ]
  },
  {
   "cell_type": "code",
   "execution_count": 9,
   "id": "eff02093-49b2-4af3-b1ac-14f443381ef5",
   "metadata": {
    "tags": []
   },
   "outputs": [
    {
     "name": "stderr",
     "output_type": "stream",
     "text": [
      "Training...:   3%|▎         | 1/31 [00:06<03:22,  6.76s/model]ERROR:root:KeyboardInterrupt while sending command.\n",
      "Traceback (most recent call last):\n",
      "  File \"/usr/local/lib/python3.6/site-packages/py4j/java_gateway.py\", line 1038, in send_command\n",
      "    response = connection.send_command(command)\n",
      "  File \"/usr/local/lib/python3.6/site-packages/py4j/clientserver.py\", line 511, in send_command\n",
      "    answer = smart_decode(self.stream.readline()[:-1])\n",
      "  File \"/usr/lib64/python3.6/socket.py\", line 586, in readinto\n",
      "    return self._sock.recv_into(b)\n",
      "KeyboardInterrupt\n",
      "Training...:   3%|▎         | 1/31 [00:10<05:01, 10.04s/model]\n"
     ]
    },
    {
     "ename": "KeyboardInterrupt",
     "evalue": "",
     "output_type": "error",
     "traceback": [
      "\u001b[0;31m---------------------------------------------------------------------------\u001b[0m",
      "\u001b[0;31mKeyboardInterrupt\u001b[0m                         Traceback (most recent call last)",
      "\u001b[0;32m<ipython-input-9-204ed011695f>\u001b[0m in \u001b[0;36m<module>\u001b[0;34m\u001b[0m\n\u001b[1;32m      3\u001b[0m \u001b[0;34m\u001b[0m\u001b[0m\n\u001b[1;32m      4\u001b[0m \u001b[0;31m# Fit the model\u001b[0m\u001b[0;34m\u001b[0m\u001b[0;34m\u001b[0m\u001b[0;34m\u001b[0m\u001b[0m\n\u001b[0;32m----> 5\u001b[0;31m \u001b[0mmodel\u001b[0m\u001b[0;34m.\u001b[0m\u001b[0mfit\u001b[0m\u001b[0;34m(\u001b[0m\u001b[0mtrain\u001b[0m\u001b[0;34m,\u001b[0m \u001b[0mcv\u001b[0m\u001b[0;34m=\u001b[0m\u001b[0;32mFalse\u001b[0m\u001b[0;34m)\u001b[0m\u001b[0;34m\u001b[0m\u001b[0;34m\u001b[0m\u001b[0m\n\u001b[0m",
      "\u001b[0;32m<ipython-input-6-1af57d389988>\u001b[0m in \u001b[0;36mfit\u001b[0;34m(self, df, cv, cv_folds)\u001b[0m\n\u001b[1;32m     63\u001b[0m             \u001b[0;32melse\u001b[0m\u001b[0;34m:\u001b[0m\u001b[0;34m\u001b[0m\u001b[0;34m\u001b[0m\u001b[0m\n\u001b[1;32m     64\u001b[0m                 \u001b[0;31m# Fit the model\u001b[0m\u001b[0;34m\u001b[0m\u001b[0;34m\u001b[0m\u001b[0;34m\u001b[0m\u001b[0m\n\u001b[0;32m---> 65\u001b[0;31m                 \u001b[0mmodel\u001b[0m \u001b[0;34m=\u001b[0m \u001b[0mpipeline\u001b[0m\u001b[0;34m.\u001b[0m\u001b[0mfit\u001b[0m\u001b[0;34m(\u001b[0m\u001b[0mdf\u001b[0m\u001b[0;34m)\u001b[0m\u001b[0;34m\u001b[0m\u001b[0;34m\u001b[0m\u001b[0m\n\u001b[0m\u001b[1;32m     66\u001b[0m \u001b[0;34m\u001b[0m\u001b[0m\n\u001b[1;32m     67\u001b[0m \u001b[0;34m\u001b[0m\u001b[0m\n",
      "\u001b[0;32m/usr/local/lib/python3.6/site-packages/pyspark/ml/base.py\u001b[0m in \u001b[0;36mfit\u001b[0;34m(self, dataset, params)\u001b[0m\n\u001b[1;32m    159\u001b[0m                 \u001b[0;32mreturn\u001b[0m \u001b[0mself\u001b[0m\u001b[0;34m.\u001b[0m\u001b[0mcopy\u001b[0m\u001b[0;34m(\u001b[0m\u001b[0mparams\u001b[0m\u001b[0;34m)\u001b[0m\u001b[0;34m.\u001b[0m\u001b[0m_fit\u001b[0m\u001b[0;34m(\u001b[0m\u001b[0mdataset\u001b[0m\u001b[0;34m)\u001b[0m\u001b[0;34m\u001b[0m\u001b[0;34m\u001b[0m\u001b[0m\n\u001b[1;32m    160\u001b[0m             \u001b[0;32melse\u001b[0m\u001b[0;34m:\u001b[0m\u001b[0;34m\u001b[0m\u001b[0;34m\u001b[0m\u001b[0m\n\u001b[0;32m--> 161\u001b[0;31m                 \u001b[0;32mreturn\u001b[0m \u001b[0mself\u001b[0m\u001b[0;34m.\u001b[0m\u001b[0m_fit\u001b[0m\u001b[0;34m(\u001b[0m\u001b[0mdataset\u001b[0m\u001b[0;34m)\u001b[0m\u001b[0;34m\u001b[0m\u001b[0;34m\u001b[0m\u001b[0m\n\u001b[0m\u001b[1;32m    162\u001b[0m         \u001b[0;32melse\u001b[0m\u001b[0;34m:\u001b[0m\u001b[0;34m\u001b[0m\u001b[0;34m\u001b[0m\u001b[0m\n\u001b[1;32m    163\u001b[0m             raise TypeError(\"Params must be either a param map or a list/tuple of param maps, \"\n",
      "\u001b[0;32m/usr/local/lib/python3.6/site-packages/pyspark/ml/pipeline.py\u001b[0m in \u001b[0;36m_fit\u001b[0;34m(self, dataset)\u001b[0m\n\u001b[1;32m    112\u001b[0m                     \u001b[0mdataset\u001b[0m \u001b[0;34m=\u001b[0m \u001b[0mstage\u001b[0m\u001b[0;34m.\u001b[0m\u001b[0mtransform\u001b[0m\u001b[0;34m(\u001b[0m\u001b[0mdataset\u001b[0m\u001b[0;34m)\u001b[0m\u001b[0;34m\u001b[0m\u001b[0;34m\u001b[0m\u001b[0m\n\u001b[1;32m    113\u001b[0m                 \u001b[0;32melse\u001b[0m\u001b[0;34m:\u001b[0m  \u001b[0;31m# must be an Estimator\u001b[0m\u001b[0;34m\u001b[0m\u001b[0;34m\u001b[0m\u001b[0m\n\u001b[0;32m--> 114\u001b[0;31m                     \u001b[0mmodel\u001b[0m \u001b[0;34m=\u001b[0m \u001b[0mstage\u001b[0m\u001b[0;34m.\u001b[0m\u001b[0mfit\u001b[0m\u001b[0;34m(\u001b[0m\u001b[0mdataset\u001b[0m\u001b[0;34m)\u001b[0m\u001b[0;34m\u001b[0m\u001b[0;34m\u001b[0m\u001b[0m\n\u001b[0m\u001b[1;32m    115\u001b[0m                     \u001b[0mtransformers\u001b[0m\u001b[0;34m.\u001b[0m\u001b[0mappend\u001b[0m\u001b[0;34m(\u001b[0m\u001b[0mmodel\u001b[0m\u001b[0;34m)\u001b[0m\u001b[0;34m\u001b[0m\u001b[0;34m\u001b[0m\u001b[0m\n\u001b[1;32m    116\u001b[0m                     \u001b[0;32mif\u001b[0m \u001b[0mi\u001b[0m \u001b[0;34m<\u001b[0m \u001b[0mindexOfLastEstimator\u001b[0m\u001b[0;34m:\u001b[0m\u001b[0;34m\u001b[0m\u001b[0;34m\u001b[0m\u001b[0m\n",
      "\u001b[0;32m/usr/local/lib/python3.6/site-packages/pyspark/ml/base.py\u001b[0m in \u001b[0;36mfit\u001b[0;34m(self, dataset, params)\u001b[0m\n\u001b[1;32m    159\u001b[0m                 \u001b[0;32mreturn\u001b[0m \u001b[0mself\u001b[0m\u001b[0;34m.\u001b[0m\u001b[0mcopy\u001b[0m\u001b[0;34m(\u001b[0m\u001b[0mparams\u001b[0m\u001b[0;34m)\u001b[0m\u001b[0;34m.\u001b[0m\u001b[0m_fit\u001b[0m\u001b[0;34m(\u001b[0m\u001b[0mdataset\u001b[0m\u001b[0;34m)\u001b[0m\u001b[0;34m\u001b[0m\u001b[0;34m\u001b[0m\u001b[0m\n\u001b[1;32m    160\u001b[0m             \u001b[0;32melse\u001b[0m\u001b[0;34m:\u001b[0m\u001b[0;34m\u001b[0m\u001b[0;34m\u001b[0m\u001b[0m\n\u001b[0;32m--> 161\u001b[0;31m                 \u001b[0;32mreturn\u001b[0m \u001b[0mself\u001b[0m\u001b[0;34m.\u001b[0m\u001b[0m_fit\u001b[0m\u001b[0;34m(\u001b[0m\u001b[0mdataset\u001b[0m\u001b[0;34m)\u001b[0m\u001b[0;34m\u001b[0m\u001b[0;34m\u001b[0m\u001b[0m\n\u001b[0m\u001b[1;32m    162\u001b[0m         \u001b[0;32melse\u001b[0m\u001b[0;34m:\u001b[0m\u001b[0;34m\u001b[0m\u001b[0;34m\u001b[0m\u001b[0m\n\u001b[1;32m    163\u001b[0m             raise TypeError(\"Params must be either a param map or a list/tuple of param maps, \"\n",
      "\u001b[0;32m/usr/local/lib/python3.6/site-packages/pyspark/ml/wrapper.py\u001b[0m in \u001b[0;36m_fit\u001b[0;34m(self, dataset)\u001b[0m\n\u001b[1;32m    337\u001b[0m \u001b[0;34m\u001b[0m\u001b[0m\n\u001b[1;32m    338\u001b[0m     \u001b[0;32mdef\u001b[0m \u001b[0m_fit\u001b[0m\u001b[0;34m(\u001b[0m\u001b[0mself\u001b[0m\u001b[0;34m,\u001b[0m \u001b[0mdataset\u001b[0m\u001b[0;34m)\u001b[0m\u001b[0;34m:\u001b[0m\u001b[0;34m\u001b[0m\u001b[0;34m\u001b[0m\u001b[0m\n\u001b[0;32m--> 339\u001b[0;31m         \u001b[0mjava_model\u001b[0m \u001b[0;34m=\u001b[0m \u001b[0mself\u001b[0m\u001b[0;34m.\u001b[0m\u001b[0m_fit_java\u001b[0m\u001b[0;34m(\u001b[0m\u001b[0mdataset\u001b[0m\u001b[0;34m)\u001b[0m\u001b[0;34m\u001b[0m\u001b[0;34m\u001b[0m\u001b[0m\n\u001b[0m\u001b[1;32m    340\u001b[0m         \u001b[0mmodel\u001b[0m \u001b[0;34m=\u001b[0m \u001b[0mself\u001b[0m\u001b[0;34m.\u001b[0m\u001b[0m_create_model\u001b[0m\u001b[0;34m(\u001b[0m\u001b[0mjava_model\u001b[0m\u001b[0;34m)\u001b[0m\u001b[0;34m\u001b[0m\u001b[0;34m\u001b[0m\u001b[0m\n\u001b[1;32m    341\u001b[0m         \u001b[0;32mreturn\u001b[0m \u001b[0mself\u001b[0m\u001b[0;34m.\u001b[0m\u001b[0m_copyValues\u001b[0m\u001b[0;34m(\u001b[0m\u001b[0mmodel\u001b[0m\u001b[0;34m)\u001b[0m\u001b[0;34m\u001b[0m\u001b[0;34m\u001b[0m\u001b[0m\n",
      "\u001b[0;32m/usr/local/lib/python3.6/site-packages/pyspark/ml/wrapper.py\u001b[0m in \u001b[0;36m_fit_java\u001b[0;34m(self, dataset)\u001b[0m\n\u001b[1;32m    334\u001b[0m         \"\"\"\n\u001b[1;32m    335\u001b[0m         \u001b[0mself\u001b[0m\u001b[0;34m.\u001b[0m\u001b[0m_transfer_params_to_java\u001b[0m\u001b[0;34m(\u001b[0m\u001b[0;34m)\u001b[0m\u001b[0;34m\u001b[0m\u001b[0;34m\u001b[0m\u001b[0m\n\u001b[0;32m--> 336\u001b[0;31m         \u001b[0;32mreturn\u001b[0m \u001b[0mself\u001b[0m\u001b[0;34m.\u001b[0m\u001b[0m_java_obj\u001b[0m\u001b[0;34m.\u001b[0m\u001b[0mfit\u001b[0m\u001b[0;34m(\u001b[0m\u001b[0mdataset\u001b[0m\u001b[0;34m.\u001b[0m\u001b[0m_jdf\u001b[0m\u001b[0;34m)\u001b[0m\u001b[0;34m\u001b[0m\u001b[0;34m\u001b[0m\u001b[0m\n\u001b[0m\u001b[1;32m    337\u001b[0m \u001b[0;34m\u001b[0m\u001b[0m\n\u001b[1;32m    338\u001b[0m     \u001b[0;32mdef\u001b[0m \u001b[0m_fit\u001b[0m\u001b[0;34m(\u001b[0m\u001b[0mself\u001b[0m\u001b[0;34m,\u001b[0m \u001b[0mdataset\u001b[0m\u001b[0;34m)\u001b[0m\u001b[0;34m:\u001b[0m\u001b[0;34m\u001b[0m\u001b[0;34m\u001b[0m\u001b[0m\n",
      "\u001b[0;32m/usr/local/lib/python3.6/site-packages/py4j/java_gateway.py\u001b[0m in \u001b[0;36m__call__\u001b[0;34m(self, *args)\u001b[0m\n\u001b[1;32m   1318\u001b[0m             \u001b[0mproto\u001b[0m\u001b[0;34m.\u001b[0m\u001b[0mEND_COMMAND_PART\u001b[0m\u001b[0;34m\u001b[0m\u001b[0;34m\u001b[0m\u001b[0m\n\u001b[1;32m   1319\u001b[0m \u001b[0;34m\u001b[0m\u001b[0m\n\u001b[0;32m-> 1320\u001b[0;31m         \u001b[0manswer\u001b[0m \u001b[0;34m=\u001b[0m \u001b[0mself\u001b[0m\u001b[0;34m.\u001b[0m\u001b[0mgateway_client\u001b[0m\u001b[0;34m.\u001b[0m\u001b[0msend_command\u001b[0m\u001b[0;34m(\u001b[0m\u001b[0mcommand\u001b[0m\u001b[0;34m)\u001b[0m\u001b[0;34m\u001b[0m\u001b[0;34m\u001b[0m\u001b[0m\n\u001b[0m\u001b[1;32m   1321\u001b[0m         return_value = get_return_value(\n\u001b[1;32m   1322\u001b[0m             answer, self.gateway_client, self.target_id, self.name)\n",
      "\u001b[0;32m/usr/local/lib/python3.6/site-packages/py4j/java_gateway.py\u001b[0m in \u001b[0;36msend_command\u001b[0;34m(self, command, retry, binary)\u001b[0m\n\u001b[1;32m   1036\u001b[0m         \u001b[0mconnection\u001b[0m \u001b[0;34m=\u001b[0m \u001b[0mself\u001b[0m\u001b[0;34m.\u001b[0m\u001b[0m_get_connection\u001b[0m\u001b[0;34m(\u001b[0m\u001b[0;34m)\u001b[0m\u001b[0;34m\u001b[0m\u001b[0;34m\u001b[0m\u001b[0m\n\u001b[1;32m   1037\u001b[0m         \u001b[0;32mtry\u001b[0m\u001b[0;34m:\u001b[0m\u001b[0;34m\u001b[0m\u001b[0;34m\u001b[0m\u001b[0m\n\u001b[0;32m-> 1038\u001b[0;31m             \u001b[0mresponse\u001b[0m \u001b[0;34m=\u001b[0m \u001b[0mconnection\u001b[0m\u001b[0;34m.\u001b[0m\u001b[0msend_command\u001b[0m\u001b[0;34m(\u001b[0m\u001b[0mcommand\u001b[0m\u001b[0;34m)\u001b[0m\u001b[0;34m\u001b[0m\u001b[0;34m\u001b[0m\u001b[0m\n\u001b[0m\u001b[1;32m   1039\u001b[0m             \u001b[0;32mif\u001b[0m \u001b[0mbinary\u001b[0m\u001b[0;34m:\u001b[0m\u001b[0;34m\u001b[0m\u001b[0;34m\u001b[0m\u001b[0m\n\u001b[1;32m   1040\u001b[0m                 \u001b[0;32mreturn\u001b[0m \u001b[0mresponse\u001b[0m\u001b[0;34m,\u001b[0m \u001b[0mself\u001b[0m\u001b[0;34m.\u001b[0m\u001b[0m_create_connection_guard\u001b[0m\u001b[0;34m(\u001b[0m\u001b[0mconnection\u001b[0m\u001b[0;34m)\u001b[0m\u001b[0;34m\u001b[0m\u001b[0;34m\u001b[0m\u001b[0m\n",
      "\u001b[0;32m/usr/local/lib/python3.6/site-packages/py4j/clientserver.py\u001b[0m in \u001b[0;36msend_command\u001b[0;34m(self, command)\u001b[0m\n\u001b[1;32m    509\u001b[0m         \u001b[0;32mtry\u001b[0m\u001b[0;34m:\u001b[0m\u001b[0;34m\u001b[0m\u001b[0;34m\u001b[0m\u001b[0m\n\u001b[1;32m    510\u001b[0m             \u001b[0;32mwhile\u001b[0m \u001b[0;32mTrue\u001b[0m\u001b[0;34m:\u001b[0m\u001b[0;34m\u001b[0m\u001b[0;34m\u001b[0m\u001b[0m\n\u001b[0;32m--> 511\u001b[0;31m                 \u001b[0manswer\u001b[0m \u001b[0;34m=\u001b[0m \u001b[0msmart_decode\u001b[0m\u001b[0;34m(\u001b[0m\u001b[0mself\u001b[0m\u001b[0;34m.\u001b[0m\u001b[0mstream\u001b[0m\u001b[0;34m.\u001b[0m\u001b[0mreadline\u001b[0m\u001b[0;34m(\u001b[0m\u001b[0;34m)\u001b[0m\u001b[0;34m[\u001b[0m\u001b[0;34m:\u001b[0m\u001b[0;34m-\u001b[0m\u001b[0;36m1\u001b[0m\u001b[0;34m]\u001b[0m\u001b[0;34m)\u001b[0m\u001b[0;34m\u001b[0m\u001b[0;34m\u001b[0m\u001b[0m\n\u001b[0m\u001b[1;32m    512\u001b[0m                 \u001b[0mlogger\u001b[0m\u001b[0;34m.\u001b[0m\u001b[0mdebug\u001b[0m\u001b[0;34m(\u001b[0m\u001b[0;34m\"Answer received: {0}\"\u001b[0m\u001b[0;34m.\u001b[0m\u001b[0mformat\u001b[0m\u001b[0;34m(\u001b[0m\u001b[0manswer\u001b[0m\u001b[0;34m)\u001b[0m\u001b[0;34m)\u001b[0m\u001b[0;34m\u001b[0m\u001b[0;34m\u001b[0m\u001b[0m\n\u001b[1;32m    513\u001b[0m                 \u001b[0;31m# Happens when a the other end is dead. There might be an empty\u001b[0m\u001b[0;34m\u001b[0m\u001b[0;34m\u001b[0m\u001b[0;34m\u001b[0m\u001b[0m\n",
      "\u001b[0;32m/usr/lib64/python3.6/socket.py\u001b[0m in \u001b[0;36mreadinto\u001b[0;34m(self, b)\u001b[0m\n\u001b[1;32m    584\u001b[0m         \u001b[0;32mwhile\u001b[0m \u001b[0;32mTrue\u001b[0m\u001b[0;34m:\u001b[0m\u001b[0;34m\u001b[0m\u001b[0;34m\u001b[0m\u001b[0m\n\u001b[1;32m    585\u001b[0m             \u001b[0;32mtry\u001b[0m\u001b[0;34m:\u001b[0m\u001b[0;34m\u001b[0m\u001b[0;34m\u001b[0m\u001b[0m\n\u001b[0;32m--> 586\u001b[0;31m                 \u001b[0;32mreturn\u001b[0m \u001b[0mself\u001b[0m\u001b[0;34m.\u001b[0m\u001b[0m_sock\u001b[0m\u001b[0;34m.\u001b[0m\u001b[0mrecv_into\u001b[0m\u001b[0;34m(\u001b[0m\u001b[0mb\u001b[0m\u001b[0;34m)\u001b[0m\u001b[0;34m\u001b[0m\u001b[0;34m\u001b[0m\u001b[0m\n\u001b[0m\u001b[1;32m    587\u001b[0m             \u001b[0;32mexcept\u001b[0m \u001b[0mtimeout\u001b[0m\u001b[0;34m:\u001b[0m\u001b[0;34m\u001b[0m\u001b[0;34m\u001b[0m\u001b[0m\n\u001b[1;32m    588\u001b[0m                 \u001b[0mself\u001b[0m\u001b[0;34m.\u001b[0m\u001b[0m_timeout_occurred\u001b[0m \u001b[0;34m=\u001b[0m \u001b[0;32mTrue\u001b[0m\u001b[0;34m\u001b[0m\u001b[0;34m\u001b[0m\u001b[0m\n",
      "\u001b[0;31mKeyboardInterrupt\u001b[0m: "
     ]
    }
   ],
   "source": [
    "# Initialize the model\n",
    "model = Multitarget_Model(feature_columns, target_columns, model_type=\"GBT\")\n",
    "\n",
    "# Fit the model\n",
    "model.fit(train, cv=False)"
   ]
  },
  {
   "cell_type": "code",
   "execution_count": 9,
   "id": "98086e1c-1261-4c8f-b4cd-22fdd9592f2f",
   "metadata": {},
   "outputs": [
    {
     "name": "stderr",
     "output_type": "stream",
     "text": [
      "Evaluating...: 31model [00:36,  1.19s/model]"
     ]
    },
    {
     "name": "stdout",
     "output_type": "stream",
     "text": [
      "RMSE for target_total_snow: 0.0\n",
      "RMSE for target_sun_hour_Scaled: 0.026182026487622724\n",
      "RMSE for target_uv_index_1_Scaled: 0.01260305811759245\n",
      "RMSE for target_uv_index_2_Scaled: 0.04214502104853706\n",
      "RMSE for target_moon_illumunation_Scaled: 0.016505625942626733\n",
      "RMSE for target_dew_point_Scaled: 0.010921582415567522\n",
      "RMSE for target_wind_gust_Scaled: 0.018378390356788513\n",
      "RMSE for target_cloudcover_Scaled: 0.061528338577819856\n",
      "RMSE for target_humidity_Scaled: 0.029466735717109137\n",
      "RMSE for target_visibility_Scaled: 0.02925380377675453\n",
      "RMSE for target_wind_speed_Scaled: 0.023030548146921806\n",
      "RMSE for target_max_temp_Scaled: 0.05855009417596629\n",
      "RMSE for target_min_temp_Scaled: 0.03277565515907261\n",
      "RMSE for target_feels_like_Scaled: 0.10329420392968482\n",
      "RMSE for target_heat_index_Scaled: 0.09341461777778245\n",
      "RMSE for target_wind_chill_Scaled: 0.108053689044366\n",
      "RMSE for target_precip_Scaled: 0.48386827359314555\n",
      "RMSE for target_pressure_Scaled: 0.08299056304129726\n",
      "RMSE for target_temp_Scaled: 0.10696870078926148\n",
      "RMSE for target_wind_dir_sin: 0.15588566909890358\n",
      "RMSE for target_wind_dir_cos: 0.18549502408158816\n",
      "RMSE for target_date_time_year_sin: 0.0004742803139530775\n",
      "RMSE for target_date_time_year_cos: 0.0005600154570693323\n",
      "RMSE for target_date_time_month_sin: 0.008694989755303495\n",
      "RMSE for target_date_time_month_cos: 0.010033309005472703\n",
      "RMSE for target_date_time_day_sin: 0.022736045155103902\n",
      "RMSE for target_date_time_day_cos: 0.007786702323686852\n",
      "RMSE for target_date_time_hour_sin: 0.006177774548571962\n",
      "RMSE for target_date_time_hour_cos: 0.005568703212988996\n",
      "RMSE for target_date_time_minute_sin: 0.0\n",
      "RMSE for target_date_time_minute_cos: 0.0\n"
     ]
    },
    {
     "name": "stderr",
     "output_type": "stream",
     "text": [
      "\n"
     ]
    }
   ],
   "source": [
    "# Evaluate the model\n",
    "results = model.evaluate(test, \"rmse\")\n",
    "\n",
    "# Print the results\n",
    "for target, result in results.items():\n",
    "    print(\"RMSE for {}: {}\".format(target, result))"
   ]
  },
  {
   "cell_type": "code",
   "execution_count": 10,
   "id": "c987e349-ea11-4673-8cb2-8ce5d7250994",
   "metadata": {},
   "outputs": [
    {
     "name": "stderr",
     "output_type": "stream",
     "text": [
      "Evaluating...: 31model [00:36,  1.19s/model]"
     ]
    },
    {
     "name": "stdout",
     "output_type": "stream",
     "text": [
      "R2 for target_total_snow: nan\n",
      "R2 for target_sun_hour_Scaled: 0.9820915322735176\n",
      "R2 for target_uv_index_1_Scaled: 0.9859657542958703\n",
      "R2 for target_uv_index_2_Scaled: 0.9783897638160198\n",
      "R2 for target_moon_illumunation_Scaled: 0.9972236301623096\n",
      "R2 for target_dew_point_Scaled: 0.9804318620412646\n",
      "R2 for target_wind_gust_Scaled: 0.955147959081337\n",
      "R2 for target_cloudcover_Scaled: 0.9528700538471728\n",
      "R2 for target_humidity_Scaled: 0.9824230797699031\n",
      "R2 for target_visibility_Scaled: 0.9297250397436234\n",
      "R2 for target_wind_speed_Scaled: 0.9636382103017538\n",
      "R2 for target_max_temp_Scaled: 0.9910085205402965\n",
      "R2 for target_min_temp_Scaled: 0.9951687710194171\n",
      "R2 for target_feels_like_Scaled: 0.9720530041780374\n",
      "R2 for target_heat_index_Scaled: 0.9765172901041342\n",
      "R2 for target_wind_chill_Scaled: 0.9750301829596854\n",
      "R2 for target_precip_Scaled: 0.7067012846033601\n",
      "R2 for target_pressure_Scaled: 0.9770583518294219\n",
      "R2 for target_temp_Scaled: 0.9747707142435412\n",
      "R2 for target_wind_dir_sin: 0.9688641409438953\n",
      "R2 for target_wind_dir_cos: 0.8365636784831031\n",
      "R2 for target_date_time_year_sin: 0.9999857900391149\n",
      "R2 for target_date_time_year_cos: 0.9999863799924413\n",
      "R2 for target_date_time_month_sin: 0.9998488650501443\n",
      "R2 for target_date_time_month_cos: 0.9997985030709741\n",
      "R2 for target_date_time_day_sin: 0.9989816979434508\n",
      "R2 for target_date_time_day_cos: 0.9998768234511108\n",
      "R2 for target_date_time_hour_sin: 0.9999231889555077\n",
      "R2 for target_date_time_hour_cos: 0.9999383589049534\n",
      "R2 for target_date_time_minute_sin: nan\n",
      "R2 for target_date_time_minute_cos: nan\n"
     ]
    },
    {
     "name": "stderr",
     "output_type": "stream",
     "text": [
      "\n"
     ]
    }
   ],
   "source": [
    "# Evaluate the model\n",
    "results = model.evaluate(test, \"r2\")\n",
    "\n",
    "# Print the results\n",
    "for target, result in results.items():\n",
    "    print(\"R2 for {}: {}\".format(target, result))"
   ]
  },
  {
   "cell_type": "markdown",
   "id": "a45c729f-2054-432e-b838-bf8d11575bcd",
   "metadata": {
    "tags": []
   },
   "source": [
    "### Train and evaluate WITH grid search"
   ]
  },
  {
   "cell_type": "code",
   "execution_count": 11,
   "id": "1b27af53-eb95-4afd-9174-3e1dc89b8097",
   "metadata": {},
   "outputs": [
    {
     "name": "stderr",
     "output_type": "stream",
     "text": [
      "Training...: 100%|██████████| 31/31 [14:14<00:00, 27.58s/model]\n"
     ]
    }
   ],
   "source": [
    "# Initialize the model\n",
    "model = Multitarget_Model(feature_columns, target_columns, model_type=\"GBT\")\n",
    "\n",
    "# Fit the model\n",
    "model.fit(train, cv=True, cv_folds=2)"
   ]
  },
  {
   "cell_type": "code",
   "execution_count": 12,
   "id": "4fb3070d-a550-41f5-a2e3-0ca6bce3d531",
   "metadata": {},
   "outputs": [
    {
     "name": "stderr",
     "output_type": "stream",
     "text": [
      "Evaluating...: 31model [00:35,  1.15s/model]"
     ]
    },
    {
     "name": "stdout",
     "output_type": "stream",
     "text": [
      "RMSE for target_total_snow: 0.0\n",
      "RMSE for target_sun_hour_Scaled: 0.03883539025395263\n",
      "RMSE for target_uv_index_1_Scaled: 0.013874858665257646\n",
      "RMSE for target_uv_index_2_Scaled: 0.07710357196400472\n",
      "RMSE for target_moon_illumunation_Scaled: 0.03387849735699749\n",
      "RMSE for target_dew_point_Scaled: 0.018241179174760775\n",
      "RMSE for target_wind_gust_Scaled: 0.024705933403559553\n",
      "RMSE for target_cloudcover_Scaled: 0.07064991325281066\n",
      "RMSE for target_humidity_Scaled: 0.03900802438075356\n",
      "RMSE for target_visibility_Scaled: 0.04039451159840566\n",
      "RMSE for target_wind_speed_Scaled: 0.033386858250770375\n",
      "RMSE for target_max_temp_Scaled: 0.1108155217598517\n",
      "RMSE for target_min_temp_Scaled: 0.07361221294920577\n",
      "RMSE for target_feels_like_Scaled: 0.14936672106242377\n",
      "RMSE for target_heat_index_Scaled: 0.1458979227638074\n",
      "RMSE for target_wind_chill_Scaled: 0.14848397031248764\n",
      "RMSE for target_precip_Scaled: 0.6233701209535754\n",
      "RMSE for target_pressure_Scaled: 0.12024387778230382\n",
      "RMSE for target_temp_Scaled: 0.14533145350658855\n",
      "RMSE for target_wind_dir_sin: 0.17691578118539877\n",
      "RMSE for target_wind_dir_cos: 0.197765615390562\n",
      "RMSE for target_date_time_year_sin: 0.00905747444616808\n",
      "RMSE for target_date_time_year_cos: 0.010940700513464708\n",
      "RMSE for target_date_time_month_sin: 0.022615031698210906\n",
      "RMSE for target_date_time_month_cos: 0.028405214220315535\n",
      "RMSE for target_date_time_day_sin: 0.06798459099349505\n",
      "RMSE for target_date_time_day_cos: 0.06791303167164747\n",
      "RMSE for target_date_time_hour_sin: 0.06512335208381069\n",
      "RMSE for target_date_time_hour_cos: 0.0586997634904765\n",
      "RMSE for target_date_time_minute_sin: 0.0\n",
      "RMSE for target_date_time_minute_cos: 0.0\n"
     ]
    },
    {
     "name": "stderr",
     "output_type": "stream",
     "text": [
      "\n"
     ]
    }
   ],
   "source": [
    "# Evaluate the model\n",
    "rmse_GBT = model.evaluate(test, \"rmse\")\n",
    "\n",
    "# Print the results\n",
    "for target, result in rmse_GBT.items():\n",
    "    print(\"RMSE for {}: {}\".format(target, result))"
   ]
  },
  {
   "cell_type": "code",
   "execution_count": 13,
   "id": "fe56ef8b-80cd-44b7-97bb-7ad3a2c03907",
   "metadata": {},
   "outputs": [
    {
     "name": "stderr",
     "output_type": "stream",
     "text": [
      "Evaluating...: 31model [00:33,  1.08s/model]"
     ]
    },
    {
     "name": "stdout",
     "output_type": "stream",
     "text": [
      "R2 for target_total_snow: nan\n",
      "R2 for target_sun_hour_Scaled: 0.9605989985627245\n",
      "R2 for target_uv_index_1_Scaled: 0.9829903908832214\n",
      "R2 for target_uv_index_2_Scaled: 0.9276704173310971\n",
      "R2 for target_moon_illumunation_Scaled: 0.9883033471889678\n",
      "R2 for target_dew_point_Scaled: 0.945413633684162\n",
      "R2 for target_wind_gust_Scaled: 0.9189468683909119\n",
      "R2 for target_cloudcover_Scaled: 0.9378602025830505\n",
      "R2 for target_humidity_Scaled: 0.9691974524593527\n",
      "R2 for target_visibility_Scaled: 0.8660074526074779\n",
      "R2 for target_wind_speed_Scaled: 0.9235833829037668\n",
      "R2 for target_max_temp_Scaled: 0.9677910066430013\n",
      "R2 for target_min_temp_Scaled: 0.9756300517996387\n",
      "R2 for target_feels_like_Scaled: 0.941562595459364\n",
      "R2 for target_heat_index_Scaled: 0.9427181879666872\n",
      "R2 for target_wind_chill_Scaled: 0.9528485224831669\n",
      "R2 for target_precip_Scaled: 0.5132030698952297\n",
      "R2 for target_pressure_Scaled: 0.9518392612382103\n",
      "R2 for target_temp_Scaled: 0.9534295163859264\n",
      "R2 for target_wind_dir_sin: 0.9598965607846011\n",
      "R2 for target_wind_dir_cos: 0.814225705458465\n",
      "R2 for target_date_time_year_sin: 0.9948175285294907\n",
      "R2 for target_date_time_year_cos: 0.9948016253019667\n",
      "R2 for target_date_time_month_sin: 0.9989775992518881\n",
      "R2 for target_date_time_month_cos: 0.9983849863636398\n",
      "R2 for target_date_time_day_sin: 0.9908952557130931\n",
      "R2 for target_date_time_day_cos: 0.9906302689898948\n",
      "R2 for target_date_time_hour_sin: 0.9914644196652954\n",
      "R2 for target_date_time_hour_cos: 0.9931508779859719\n",
      "R2 for target_date_time_minute_sin: nan\n",
      "R2 for target_date_time_minute_cos: nan\n"
     ]
    },
    {
     "name": "stderr",
     "output_type": "stream",
     "text": [
      "\n"
     ]
    }
   ],
   "source": [
    "# Evaluate the model\n",
    "r2_GBT = model.evaluate(test, \"r2\")\n",
    "\n",
    "# Print the results\n",
    "for target, result in r2_GBT.items():\n",
    "    print(\"R2 for {}: {}\".format(target, result))"
   ]
  },
  {
   "cell_type": "code",
   "execution_count": 15,
   "id": "9a19abff-47ba-42fa-98c9-0ec55db6194f",
   "metadata": {},
   "outputs": [],
   "source": [
    "# Save the best model\n",
    "model.save()"
   ]
  },
  {
   "cell_type": "code",
   "execution_count": 16,
   "id": "69c0a285-aef5-46e4-aaa7-08675d1cf021",
   "metadata": {},
   "outputs": [
    {
     "name": "stderr",
     "output_type": "stream",
     "text": [
      "Predicting... : 31model [00:07,  3.96model/s]\n"
     ]
    }
   ],
   "source": [
    "# Predict the test data and save it into csv\n",
    "predictions = model.predict(test)\n",
    "\n",
    "# merge predictions with test data\n",
    "results = test.join(predictions, \"ID\", \"inner\")\n",
    "\n",
    "# Drop everything except the target and prediction columns\n",
    "results = results.select([c for c in results.columns if c.startswith(\"target_\") or c.startswith(\"prediction_\")])\n",
    "\n",
    "# Save into project/output/GBT_predictions on HDFS (as a one partition)\n",
    "results.coalesce(1).write.mode(\"overwrite\").format(\"csv\").option(\"sep\", \",\").option(\"header\",\"true\").save(\"project/output/GBT_predictions.csv\")\n",
    "\n",
    "run(\"hdfs dfs -cat project/output/GBT_predictions.csv/*.csv > output/GBT_predictions.csv\")"
   ]
  },
  {
   "cell_type": "markdown",
   "id": "6e070885-6872-49aa-bfbb-a944fdab8ee1",
   "metadata": {
    "tags": []
   },
   "source": [
    "# RF\n",
    "### Train and evaluate WITHOUT grid search"
   ]
  },
  {
   "cell_type": "code",
   "execution_count": 17,
   "id": "dfe6af9f-251a-44de-b165-4a5bcc51e70b",
   "metadata": {
    "tags": []
   },
   "outputs": [
    {
     "name": "stderr",
     "output_type": "stream",
     "text": [
      "Training...: 100%|██████████| 31/31 [03:02<00:00,  5.89s/model]\n"
     ]
    }
   ],
   "source": [
    "# Initialize the model\n",
    "model = Multitarget_Model(feature_columns, target_columns, model_type=\"RF\")\n",
    "\n",
    "# Fit the model\n",
    "model.fit(train, cv=False)"
   ]
  },
  {
   "cell_type": "code",
   "execution_count": 18,
   "id": "2932dc6d-b5a8-492b-bec0-f52b7c84427e",
   "metadata": {},
   "outputs": [
    {
     "name": "stderr",
     "output_type": "stream",
     "text": [
      "Evaluating...: 31model [00:38,  1.25s/model]"
     ]
    },
    {
     "name": "stdout",
     "output_type": "stream",
     "text": [
      "RMSE for target_total_snow: 0.0\n",
      "RMSE for target_sun_hour_Scaled: 0.040916917957279635\n",
      "RMSE for target_uv_index_1_Scaled: 0.02265721860837882\n",
      "RMSE for target_uv_index_2_Scaled: 0.062193370185898364\n",
      "RMSE for target_moon_illumunation_Scaled: 0.10054874935131365\n",
      "RMSE for target_dew_point_Scaled: 0.016237745523154913\n",
      "RMSE for target_wind_gust_Scaled: 0.022048847515149322\n",
      "RMSE for target_cloudcover_Scaled: 0.07545785309091008\n",
      "RMSE for target_humidity_Scaled: 0.042016179957568164\n",
      "RMSE for target_visibility_Scaled: 0.037695924559538754\n",
      "RMSE for target_wind_speed_Scaled: 0.030341742869220287\n",
      "RMSE for target_max_temp_Scaled: 0.12922697629615454\n",
      "RMSE for target_min_temp_Scaled: 0.08162200944318304\n",
      "RMSE for target_feels_like_Scaled: 0.12059893108809781\n",
      "RMSE for target_heat_index_Scaled: 0.11745325799083979\n",
      "RMSE for target_wind_chill_Scaled: 0.12767866972589653\n",
      "RMSE for target_precip_Scaled: 0.5469272636194055\n",
      "RMSE for target_pressure_Scaled: 0.13114776787448218\n",
      "RMSE for target_temp_Scaled: 0.12273358669449588\n",
      "RMSE for target_wind_dir_sin: 0.167909204096841\n",
      "RMSE for target_wind_dir_cos: 0.21424138165661197\n",
      "RMSE for target_date_time_year_sin: 0.01038562192848061\n",
      "RMSE for target_date_time_year_cos: 0.01508473782327049\n",
      "RMSE for target_date_time_month_sin: 0.06520515875888167\n",
      "RMSE for target_date_time_month_cos: 0.050402534062633904\n",
      "RMSE for target_date_time_day_sin: 0.12835822230432875\n",
      "RMSE for target_date_time_day_cos: 0.14200707108674157\n",
      "RMSE for target_date_time_hour_sin: 0.08124309849967706\n",
      "RMSE for target_date_time_hour_cos: 0.09640321394859172\n",
      "RMSE for target_date_time_minute_sin: 0.0\n",
      "RMSE for target_date_time_minute_cos: 0.0\n"
     ]
    },
    {
     "name": "stderr",
     "output_type": "stream",
     "text": [
      "\n"
     ]
    }
   ],
   "source": [
    "# Evaluate the model\n",
    "results = model.evaluate(test, \"rmse\")\n",
    "\n",
    "# Print the results\n",
    "for target, result in results.items():\n",
    "    print(\"RMSE for {}: {}\".format(target, result))"
   ]
  },
  {
   "cell_type": "code",
   "execution_count": 19,
   "id": "fcef733a-a793-4a0a-9261-32610de9e187",
   "metadata": {},
   "outputs": [
    {
     "name": "stderr",
     "output_type": "stream",
     "text": [
      "Evaluating...: 31model [00:38,  1.23s/model]"
     ]
    },
    {
     "name": "stdout",
     "output_type": "stream",
     "text": [
      "R2 for target_total_snow: nan\n",
      "R2 for target_sun_hour_Scaled: 0.9562621189222207\n",
      "R2 for target_uv_index_1_Scaled: 0.9546423664807323\n",
      "R2 for target_uv_index_2_Scaled: 0.9529396507378305\n",
      "R2 for target_moon_illumunation_Scaled: 0.8969692962250133\n",
      "R2 for target_dew_point_Scaled: 0.9567456461628705\n",
      "R2 for target_wind_gust_Scaled: 0.9354436371022732\n",
      "R2 for target_cloudcover_Scaled: 0.9291148183878689\n",
      "R2 for target_humidity_Scaled: 0.9642635132509563\n",
      "R2 for target_visibility_Scaled: 0.8833123966517022\n",
      "R2 for target_wind_speed_Scaled: 0.9368871563310637\n",
      "R2 for target_max_temp_Scaled: 0.9561991714437489\n",
      "R2 for target_min_temp_Scaled: 0.9700380949562557\n",
      "R2 for target_feels_like_Scaled: 0.9619048102507867\n",
      "R2 for target_heat_index_Scaled: 0.9628765212087964\n",
      "R2 for target_wind_chill_Scaled: 0.9651363493429739\n",
      "R2 for target_precip_Scaled: 0.625272977307328\n",
      "R2 for target_pressure_Scaled: 0.9427086574098622\n",
      "R2 for target_temp_Scaled: 0.9667862153353415\n",
      "R2 for target_wind_dir_sin: 0.9638758633944571\n",
      "R2 for target_wind_dir_cos: 0.7819827929650298\n",
      "R2 for target_date_time_year_sin: 0.9931862263466055\n",
      "R2 for target_date_time_year_cos: 0.9901178178856518\n",
      "R2 for target_date_time_month_sin: 0.9915005529965991\n",
      "R2 for target_date_time_month_cos: 0.9949150720990458\n",
      "R2 for target_date_time_day_sin: 0.9675440622262227\n",
      "R2 for target_date_time_day_cos: 0.9590323712354699\n",
      "R2 for target_date_time_hour_sin: 0.9867158883406458\n",
      "R2 for target_date_time_hour_cos: 0.9815266683975246\n",
      "R2 for target_date_time_minute_sin: nan\n",
      "R2 for target_date_time_minute_cos: nan\n"
     ]
    },
    {
     "name": "stderr",
     "output_type": "stream",
     "text": [
      "\n"
     ]
    }
   ],
   "source": [
    "# Evaluate the model\n",
    "results = model.evaluate(test, \"r2\")\n",
    "\n",
    "# Print the results\n",
    "for target, result in results.items():\n",
    "    print(\"R2 for {}: {}\".format(target, result))"
   ]
  },
  {
   "cell_type": "markdown",
   "id": "f33abc01-db50-4ca2-b4b8-bc90c75b0bd0",
   "metadata": {
    "tags": []
   },
   "source": [
    "### Train and evaluate WITH grid search"
   ]
  },
  {
   "cell_type": "code",
   "execution_count": 20,
   "id": "33c4e83c-fd54-4325-9e5b-22585e3106cb",
   "metadata": {},
   "outputs": [
    {
     "name": "stderr",
     "output_type": "stream",
     "text": [
      "Training...: 100%|██████████| 31/31 [09:36<00:00, 18.61s/model]\n"
     ]
    }
   ],
   "source": [
    "# Initialize the model\n",
    "model = Multitarget_Model(feature_columns, target_columns, model_type=\"RF\")\n",
    "\n",
    "# Fit the model\n",
    "model.fit(train, cv=True, cv_folds=2)"
   ]
  },
  {
   "cell_type": "code",
   "execution_count": 21,
   "id": "ee1d74a8-dd18-4db4-8c6f-8e005be345d1",
   "metadata": {},
   "outputs": [
    {
     "name": "stderr",
     "output_type": "stream",
     "text": [
      "Evaluating...: 31model [00:36,  1.18s/model]"
     ]
    },
    {
     "name": "stdout",
     "output_type": "stream",
     "text": [
      "RMSE for target_total_snow: 0.0\n",
      "RMSE for target_sun_hour_Scaled: 0.06965649453854132\n",
      "RMSE for target_uv_index_1_Scaled: 0.03922210260957141\n",
      "RMSE for target_uv_index_2_Scaled: 0.09888785214952549\n",
      "RMSE for target_moon_illumunation_Scaled: 0.11229055035640503\n",
      "RMSE for target_dew_point_Scaled: 0.02248910846735099\n",
      "RMSE for target_wind_gust_Scaled: 0.032308071346283815\n",
      "RMSE for target_cloudcover_Scaled: 0.10079624282612702\n",
      "RMSE for target_humidity_Scaled: 0.06180274447607928\n",
      "RMSE for target_visibility_Scaled: 0.05042754313608699\n",
      "RMSE for target_wind_speed_Scaled: 0.04681577997064773\n",
      "RMSE for target_max_temp_Scaled: 0.20581562315279744\n",
      "RMSE for target_min_temp_Scaled: 0.14255571285733232\n",
      "RMSE for target_feels_like_Scaled: 0.16246067059308802\n",
      "RMSE for target_heat_index_Scaled: 0.16677519140897717\n",
      "RMSE for target_wind_chill_Scaled: 0.18518804445408454\n",
      "RMSE for target_precip_Scaled: 0.6283612369601856\n",
      "RMSE for target_pressure_Scaled: 0.17824951745845521\n",
      "RMSE for target_temp_Scaled: 0.17374387892981732\n",
      "RMSE for target_wind_dir_sin: 0.1924551371207112\n",
      "RMSE for target_wind_dir_cos: 0.24330526680256703\n",
      "RMSE for target_date_time_year_sin: 0.027999909925043743\n",
      "RMSE for target_date_time_year_cos: 0.03342360960303512\n",
      "RMSE for target_date_time_month_sin: 0.18027925992826999\n",
      "RMSE for target_date_time_month_cos: 0.14049967949179087\n",
      "RMSE for target_date_time_day_sin: 0.20720018201681445\n",
      "RMSE for target_date_time_day_cos: 0.2399274928044737\n",
      "RMSE for target_date_time_hour_sin: 0.2148191357222583\n",
      "RMSE for target_date_time_hour_cos: 0.19872149824987015\n",
      "RMSE for target_date_time_minute_sin: 0.0\n",
      "RMSE for target_date_time_minute_cos: 0.0\n"
     ]
    },
    {
     "name": "stderr",
     "output_type": "stream",
     "text": [
      "\n"
     ]
    }
   ],
   "source": [
    "# Evaluate the model\n",
    "rmse_RF = model.evaluate(test, \"rmse\")\n",
    "\n",
    "# Print the results\n",
    "for target, result in rmse_RF.items():\n",
    "    print(\"RMSE for {}: {}\".format(target, result))"
   ]
  },
  {
   "cell_type": "code",
   "execution_count": 22,
   "id": "b4988bc8-80a3-4bcb-9add-4f22912d77ea",
   "metadata": {},
   "outputs": [
    {
     "name": "stderr",
     "output_type": "stream",
     "text": [
      "Evaluating...: 31model [00:39,  1.28s/model]"
     ]
    },
    {
     "name": "stdout",
     "output_type": "stream",
     "text": [
      "R2 for target_total_snow: nan\n",
      "R2 for target_sun_hour_Scaled: 0.8732420688194871\n",
      "R2 for target_uv_index_1_Scaled: 0.8640751254765312\n",
      "R2 for target_uv_index_2_Scaled: 0.8810257840448485\n",
      "R2 for target_moon_illumunation_Scaled: 0.8715010020642118\n",
      "R2 for target_dew_point_Scaled: 0.917029664724578\n",
      "R2 for target_wind_gust_Scaled: 0.8613916694253341\n",
      "R2 for target_cloudcover_Scaled: 0.8735160978845073\n",
      "R2 for target_humidity_Scaled: 0.9226795721955364\n",
      "R2 for target_visibility_Scaled: 0.7911802652340424\n",
      "R2 for target_wind_speed_Scaled: 0.8497476656600063\n",
      "R2 for target_max_temp_Scaled: 0.8888952472542782\n",
      "R2 for target_min_temp_Scaled: 0.9086046477994616\n",
      "R2 for target_feels_like_Scaled: 0.9308679067343485\n",
      "R2 for target_heat_index_Scaled: 0.9251517887072098\n",
      "R2 for target_wind_chill_Scaled: 0.9266564285214425\n",
      "R2 for target_precip_Scaled: 0.5053766226370127\n",
      "R2 for target_pressure_Scaled: 0.8941663147941663\n",
      "R2 for target_temp_Scaled: 0.9334404250265126\n",
      "R2 for target_wind_dir_sin: 0.9525422126646528\n",
      "R2 for target_wind_dir_cos: 0.7188182878483269\n",
      "R2 for target_date_time_year_sin: 0.9504736920676408\n",
      "R2 for target_date_time_year_cos: 0.9514841080488279\n",
      "R2 for target_date_time_month_sin: 0.9350291886689603\n",
      "R2 for target_date_time_month_cos: 0.9604878444460158\n",
      "R2 for target_date_time_day_sin: 0.9154279145753842\n",
      "R2 for target_date_time_day_cos: 0.8830551991583306\n",
      "R2 for target_date_time_hour_sin: 0.9071235749458975\n",
      "R2 for target_date_time_hour_cos: 0.9215032084517207\n",
      "R2 for target_date_time_minute_sin: nan\n",
      "R2 for target_date_time_minute_cos: nan\n"
     ]
    },
    {
     "name": "stderr",
     "output_type": "stream",
     "text": [
      "\n"
     ]
    }
   ],
   "source": [
    "# Evaluate the model\n",
    "r2_RF = model.evaluate(test, \"r2\")\n",
    "\n",
    "# Print the results\n",
    "for target, result in r2_RF.items():\n",
    "    print(\"R2 for {}: {}\".format(target, result))"
   ]
  },
  {
   "cell_type": "code",
   "execution_count": 23,
   "id": "f2cf6017-baa9-4d44-8d8e-7e4f2888dc8f",
   "metadata": {},
   "outputs": [],
   "source": [
    "# Save the best model\n",
    "model.save()"
   ]
  },
  {
   "cell_type": "code",
   "execution_count": 24,
   "id": "7fab8693-15b3-4ffb-8bfa-a49d3c2ac340",
   "metadata": {},
   "outputs": [
    {
     "name": "stderr",
     "output_type": "stream",
     "text": [
      "Predicting... : 31model [00:08,  3.87model/s]\n"
     ]
    }
   ],
   "source": [
    "# Predict the test data and save it into csv\n",
    "predictions = model.predict(test)\n",
    "\n",
    "# merge predictions with test data\n",
    "results = test.join(predictions, \"ID\", \"inner\")\n",
    "\n",
    "# Drop everything except the target and prediction columns\n",
    "results = results.select([c for c in results.columns if c.startswith(\"target_\") or c.startswith(\"prediction_\")])\n",
    "\n",
    "# Save into project/output/GBT_predictions on HDFS (as a one partition)\n",
    "results.coalesce(1).write.mode(\"overwrite\").format(\"csv\").option(\"sep\", \",\").option(\"header\",\"true\").save(\"project/output/RF_predictions.csv\")\n",
    "\n",
    "run(\"hdfs dfs -cat project/output/RF_predictions.csv/*.csv > output/RF_predictions.csv\")"
   ]
  },
  {
   "cell_type": "code",
   "execution_count": 27,
   "id": "aabceaff-114b-4c72-b3b9-d582a9443fd1",
   "metadata": {},
   "outputs": [],
   "source": [
    "import pandas as pd\n",
    "\n",
    "# The format of table is: target | RMSE (GBT) | R2 (GBT) | RMSE (RF) | R2 (RF)\n",
    "table = pd.DataFrame(columns=[\"target\", \"RMSE (GBT)\", \"R2 (GBT)\", \"RMSE (RF)\", \"R2 (RF)\"])\n",
    "\n",
    "for target in rmse_GBT.keys():\n",
    "    table = table.append({\n",
    "        \"target\": target.replace(\"target_\", \"\"),\n",
    "        \"RMSE (GBT)\": rmse_GBT[target],\n",
    "        \"R2 (GBT)\": r2_GBT[target],\n",
    "        \"RMSE (RF)\": rmse_RF[target],\n",
    "        \"R2 (RF)\": r2_RF[target]\n",
    "    }, ignore_index=True)\n",
    "    \n",
    "table = table.fillna(1)\n",
    "\n",
    "# Convert to spark\n",
    "spark_table = spark.createDataFrame(table)\n",
    "\n",
    "# Save it to HDFS\n",
    "spark_table.coalesce(1)\\\n",
    "    .write\\\n",
    "    .mode(\"overwrite\")\\\n",
    "    .format(\"csv\")\\\n",
    "    .option(\"sep\", \",\")\\\n",
    "    .option(\"header\",\"true\")\\\n",
    "    .save(\"project/output/evaluation.csv\")\n",
    "\n",
    "# Run it from root directory of the repository\n",
    "run(\"hdfs dfs -cat project/output/evaluation.csv/*.csv > output/evaluation.csv\")"
   ]
  }
 ],
 "metadata": {
  "kernelspec": {
   "display_name": "Python 3",
   "language": "python",
   "name": "python3"
  },
  "language_info": {
   "codemirror_mode": {
    "name": "ipython",
    "version": 3
   },
   "file_extension": ".py",
   "mimetype": "text/x-python",
   "name": "python",
   "nbconvert_exporter": "python",
   "pygments_lexer": "ipython3",
   "version": "3.6.8"
  }
 },
 "nbformat": 4,
 "nbformat_minor": 5
}
