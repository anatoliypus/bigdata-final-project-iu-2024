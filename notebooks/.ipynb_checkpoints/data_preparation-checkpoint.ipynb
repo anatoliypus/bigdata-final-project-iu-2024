{
 "cells": [
  {
   "cell_type": "code",
   "execution_count": 1,
   "id": "ea71e92b-06d4-4742-8aab-d9c6b556e10e",
   "metadata": {},
   "outputs": [
    {
     "name": "stdout",
     "output_type": "stream",
     "text": [
      "Shape of DataFrame: (771456, 26)\n"
     ]
    }
   ],
   "source": [
    "from pyspark.sql import SparkSession\n",
    "from pyspark.sql.functions import col, year, month, dayofmonth, hour, minute, sin, cos, radians\n",
    "from pyspark.ml.feature import StandardScaler, MinMaxScaler\n",
    "from pyspark.ml.feature import VectorAssembler\n",
    "from pyspark.ml import Pipeline\n",
    "from pyspark.ml.feature import OneHotEncoder\n",
    "from pyspark.ml import Pipeline\n",
    "from pyspark.sql.functions import udf\n",
    "from pyspark.sql.types import DoubleType\n",
    "\n",
    "\n",
    "team = 29\n",
    "\n",
    "# location of your Hive database in HDFS\n",
    "warehouse = \"project/hive/warehouse\"\n",
    "\n",
    "spark = SparkSession.builder\\\n",
    "        .appName(\"{} - spark ML\".format(team))\\\n",
    "        .config(\"hive.metastore.uris\", \"thrift://hadoop-02.uni.innopolis.ru:9883\")\\\n",
    "        .config(\"spark.sql.warehouse.dir\", warehouse)\\\n",
    "        .config(\"spark.sql.avro.compression.codec\", \"snappy\")\\\n",
    "        .enableHiveSupport()\\\n",
    "        .getOrCreate()\n",
    "\n",
    "\n",
    "table_name = \"team29_projectdb.dataset_part\"\n",
    "df = spark.read.table(table_name)\n",
    "\n",
    "\n",
    "print(\"Shape of DataFrame: ({}, {})\".format(df.count(), len(df.columns)))"
   ]
  },
  {
   "cell_type": "code",
   "execution_count": 2,
   "id": "9ee1292c-9209-4554-b8e2-82684cad227f",
   "metadata": {},
   "outputs": [
    {
     "name": "stdout",
     "output_type": "stream",
     "text": [
      "+-------------------+--------+--------+----------+--------+----------+----------+-----------------+--------+--------+--------+--------+---------+----------+----------+----------+---------+----------+--------+-------+--------+----+----------+--------+----------+-------+\n",
      "|          date_time|max_temp|min_temp|total_snow|sun_hour|uv_index_1|uv_index_2|moon_illumunation|moonrise| moonset| sunrise|  sunset|dew_point|feels_like|heat_index|wind_chill|wind_gust|cloudcover|humidity| precip|pressure|temp|visibility|wind_dir|wind_speed|city_id|\n",
      "+-------------------+--------+--------+----------+--------+----------+----------+-----------------+--------+--------+--------+--------+---------+----------+----------+----------+---------+----------+--------+-------+--------+----+----------+--------+----------+-------+\n",
      "|2008-12-31 21:00:00|      31|      13|   0.00000|11.00000|         6|         1|               31|26220000|69360000|14820000|54540000|        7|        18|        18|        18|        7|         0|      50|0.00000|    1013|  13|        10|      59|         3|      7|\n",
      "|2008-12-31 22:00:00|      31|      13|   0.00000|11.00000|         6|         1|               31|26220000|69360000|14820000|54540000|        6|        18|        18|        18|        9|         0|      47|0.00000|    1013|  14|        10|      57|         4|      7|\n",
      "|2008-12-31 23:00:00|      31|      13|   0.00000|11.00000|         6|         1|               31|26220000|69360000|14820000|54540000|        6|        18|        18|        18|       10|         0|      44|0.00000|    1013|  14|        10|      55|         5|      7|\n",
      "|2009-01-01 00:00:00|      31|      13|   0.00000|11.00000|         6|         1|               31|26220000|69360000|14820000|54540000|        5|        18|        18|        18|       12|         0|      41|0.00000|    1013|  15|        10|      54|         6|      7|\n",
      "|2009-01-01 01:00:00|      31|      13|   0.00000|11.00000|         6|         1|               31|26220000|69360000|14820000|54540000|        5|        20|        20|        20|       11|         1|      38|0.00000|    1014|  16|        10|      68|         6|      7|\n",
      "+-------------------+--------+--------+----------+--------+----------+----------+-----------------+--------+--------+--------+--------+---------+----------+----------+----------+---------+----------+--------+-------+--------+----+----------+--------+----------+-------+\n",
      "only showing top 5 rows\n",
      "\n"
     ]
    }
   ],
   "source": [
    "# Convert columns to right type\n",
    "df = df.withColumn(\"date_time\", df[\"date_time\"].cast(\"timestamp\"))\n",
    "df = df.withColumn(\"city_id\", df[\"city_id\"].cast(\"int\"))\n",
    "\n",
    "df.show(5)"
   ]
  },
  {
   "cell_type": "code",
   "execution_count": 3,
   "id": "6f2c2aab-bbb0-4a9d-a496-267b1bf6a3c3",
   "metadata": {},
   "outputs": [],
   "source": [
    "# Define columns for scaling with standard scaling\n",
    "sc_columns = [\n",
    "    \"max_temp\",\n",
    "    \"min_temp\",\n",
    "    \"feels_like\",\n",
    "    \"heat_index\",\n",
    "    \"wind_chill\",\n",
    "    \"precip\",\n",
    "    \"pressure\",\n",
    "    \"temp\"\n",
    "]\n",
    "# Define columns for scaling with min-max scaling\n",
    "\n",
    "minmax_columns = [\n",
    "    \"sun_hour\",\n",
    "    \"uv_index_1\",\n",
    "    \"uv_index_2\",\n",
    "    \"moon_illumunation\",\n",
    "    \"dew_point\",\n",
    "    \"wind_gust\",\n",
    "    \"cloudcover\",\n",
    "    \"humidity\",\n",
    "    \"visibility\",\n",
    "    \"wind_speed\",\n",
    "]\n",
    "\n",
    "to_drop = [\n",
    "    \"sunrise\",\n",
    "    \"sunset\",\n",
    "    \"moonrise\",\n",
    "    \"moonset\"\n",
    "]\n",
    "\n",
    "df = df.drop(*to_drop)"
   ]
  },
  {
   "cell_type": "code",
   "execution_count": 4,
   "id": "cac12d1d-47b3-476c-9d1d-64e1221f6d0f",
   "metadata": {},
   "outputs": [
    {
     "name": "stderr",
     "output_type": "stream",
     "text": [
      "100%|██████████| 10/10 [01:03<00:00,  6.31s/it]\n"
     ]
    }
   ],
   "source": [
    "from tqdm import tqdm\n",
    "\n",
    "# UDF for converting column type from vector to double type\n",
    "unlist = udf(lambda x: round(float(list(x)[0]),3), DoubleType())\n",
    "\n",
    "# Iterating over columns to be scaled\n",
    "for i in tqdm(minmax_columns):\n",
    "    # VectorAssembler Transformation - Converting column to vector type\n",
    "    assembler = VectorAssembler(inputCols=[i],outputCol=i+\"_Vect\")\n",
    "    # MinMaxScaler Transformation\n",
    "    scaler = MinMaxScaler(inputCol=i+\"_Vect\", outputCol=i+\"_Scaled\")\n",
    "    # Pipeline of VectorAssembler and MinMaxScaler\n",
    "    pipeline = Pipeline(stages=[assembler, scaler])\n",
    "\n",
    "    # Fitting pipeline on dataframe\n",
    "    df = pipeline.fit(df).transform(df).withColumn(i+\"_Scaled\", unlist(i+\"_Scaled\")).drop(i+\"_Vect\")\n",
    "\n",
    "unlist = udf(lambda x: round(float(list(x)[0]),3), DoubleType())"
   ]
  },
  {
   "cell_type": "code",
   "execution_count": 5,
   "id": "9af0c696-67f0-4c99-8e7c-26662857d030",
   "metadata": {},
   "outputs": [
    {
     "name": "stderr",
     "output_type": "stream",
     "text": [
      "100%|██████████| 8/8 [00:48<00:00,  6.12s/it]\n"
     ]
    }
   ],
   "source": [
    "# Iterating over columns to be scaled\n",
    "for i in tqdm(sc_columns):\n",
    "    # VectorAssembler Transformation - Converting column to vector type\n",
    "    assembler = VectorAssembler(inputCols=[i],outputCol=i+\"_Vect\")\n",
    "    scaler = StandardScaler(inputCol=i+\"_Vect\", outputCol=i+\"_Scaled\")\n",
    "    # Pipeline of VectorAssembler and MinMaxScaler\n",
    "    pipeline = Pipeline(stages=[assembler, scaler])\n",
    "\n",
    "    # Fitting pipeline on dataframe\n",
    "    df = pipeline.fit(df).transform(df).withColumn(i+\"_Scaled\", unlist(i+\"_Scaled\")).drop(i+\"_Vect\")\n",
    "\n",
    "\n",
    "df = df.drop(*sc_columns)\n",
    "df = df.drop(*minmax_columns)"
   ]
  },
  {
   "cell_type": "code",
   "execution_count": 6,
   "id": "9ac76170-0d59-4087-a4d5-9e46e716b9ec",
   "metadata": {},
   "outputs": [
    {
     "name": "stdout",
     "output_type": "stream",
     "text": [
      "+-------------------+----------+--------+-------+---------------+-----------------+-----------------+------------------------+----------------+----------------+-----------------+---------------+-----------------+-----------------+---------------+---------------+-----------------+-----------------+-----------------+-------------+---------------+-----------+\n",
      "|          date_time|total_snow|wind_dir|city_id|sun_hour_Scaled|uv_index_1_Scaled|uv_index_2_Scaled|moon_illumunation_Scaled|dew_point_Scaled|wind_gust_Scaled|cloudcover_Scaled|humidity_Scaled|visibility_Scaled|wind_speed_Scaled|max_temp_Scaled|min_temp_Scaled|feels_like_Scaled|heat_index_Scaled|wind_chill_Scaled|precip_Scaled|pressure_Scaled|temp_Scaled|\n",
      "+-------------------+----------+--------+-------+---------------+-----------------+-----------------+------------------------+----------------+----------------+-----------------+---------------+-----------------+-----------------+---------------+---------------+-----------------+-----------------+-----------------+-------------+---------------+-----------+\n",
      "|2008-12-31 21:00:00|   0.00000|       4|      3|           0.48|            0.125|              0.0|                    0.31|           0.434|             0.2|             0.01|           0.48|              0.5|             0.17|          4.305|           1.36|            1.479|            1.648|            1.667|          0.0|        174.204|      1.338|\n",
      "|2008-12-31 22:00:00|   0.00000|       3|      3|           0.48|            0.125|              0.0|                    0.31|           0.434|             0.2|             0.01|           0.49|              0.5|             0.17|          4.305|           1.36|            1.479|            1.511|            1.667|          0.0|        174.204|      1.338|\n",
      "|2008-12-31 23:00:00|   0.00000|       2|      3|           0.48|            0.125|              0.0|                    0.31|           0.434|           0.212|             0.01|            0.5|              0.5|             0.17|          4.305|           1.36|            1.345|            1.511|            1.515|          0.0|        174.204|      1.338|\n",
      "|2009-01-01 00:00:00|   0.00000|       1|      3|           0.48|            0.125|              0.0|                    0.31|           0.434|           0.212|             0.01|           0.51|              0.5|            0.191|          4.305|           1.36|             1.21|            1.374|            1.364|          0.0|        174.204|       1.19|\n",
      "|2009-01-01 01:00:00|   0.00000|       1|      3|           0.48|            0.125|              0.0|                    0.31|           0.453|           0.176|             0.01|           0.48|              0.5|             0.17|          4.305|           1.36|            1.479|            1.648|            1.667|          0.0|        174.375|      1.487|\n",
      "+-------------------+----------+--------+-------+---------------+-----------------+-----------------+------------------------+----------------+----------------+-----------------+---------------+-----------------+-----------------+---------------+---------------+-----------------+-----------------+-----------------+-------------+---------------+-----------+\n",
      "only showing top 5 rows\n",
      "\n"
     ]
    }
   ],
   "source": [
    "df.show(5)"
   ]
  },
  {
   "cell_type": "code",
   "execution_count": 7,
   "id": "28dabf53-80d5-4162-9885-d19da843d607",
   "metadata": {},
   "outputs": [],
   "source": [
    "# Convert wind_dir to radians and calculate sine and cosine values\n",
    "df = df.withColumn(\"wind_dir_rad\", radians(df[\"wind_dir\"]))\n",
    "df = df.withColumn(\"wind_dir_sin\", sin(df[\"wind_dir_rad\"]))\n",
    "df = df.withColumn(\"wind_dir_cos\", cos(df[\"wind_dir_rad\"]))"
   ]
  },
  {
   "cell_type": "code",
   "execution_count": 8,
   "id": "eeaad8a7-4bed-4fa2-9576-2e8a6788eda6",
   "metadata": {},
   "outputs": [],
   "source": [
    "# # # Drop the original wind_dir column\n",
    "df_scaled = df.drop(\"wind_dir\")\n",
    "df_scaled = df_scaled.drop(\"wind_dir_rad\")"
   ]
  },
  {
   "cell_type": "code",
   "execution_count": 9,
   "id": "6ea06553-43bd-4500-b254-ba026ec7d921",
   "metadata": {},
   "outputs": [],
   "source": [
    "# # Extract date components\n",
    "df_scaled = df_scaled.withColumn(\"year\", year(\"date_time\"))\n",
    "df_scaled = df_scaled.withColumn(\"month\", month(\"date_time\"))\n",
    "df_scaled = df_scaled.withColumn(\"day\", dayofmonth(\"date_time\"))\n",
    "df_scaled = df_scaled.withColumn(\"hour\", hour(\"date_time\"))\n",
    "df_scaled = df_scaled.withColumn(\"minute\", minute(\"date_time\"))"
   ]
  },
  {
   "cell_type": "code",
   "execution_count": 10,
   "id": "b9daea1d-3ff7-445d-89af-f06ccd2f2232",
   "metadata": {},
   "outputs": [],
   "source": [
    "# Calculate sine and cosine values for date components\n",
    "df_scaled = df_scaled.withColumn(\"date_time_year_sin\", sin(2 * 3.141592653589793238 * (year(df[\"date_time\"]) - 2000) / 100))\n",
    "df_scaled = df_scaled.withColumn(\"date_time_year_cos\", cos(2 * 3.141592653589793238 * (year(df[\"date_time\"]) - 2000) / 100))\n",
    "\n",
    "df_scaled = df_scaled.withColumn(\"date_time_month_sin\", sin(2 * 3.141592653589793238 * month(df[\"date_time\"]) / 12))\n",
    "df_scaled = df_scaled.withColumn(\"date_time_month_cos\", cos(2 * 3.141592653589793238 * month(df[\"date_time\"]) / 12))\n",
    "\n",
    "df_scaled = df_scaled.withColumn(\"date_time_day_sin\", sin(2 * 3.141592653589793238 * dayofmonth(df[\"date_time\"]) / 31))\n",
    "df_scaled = df_scaled.withColumn(\"date_time_day_cos\", cos(2 * 3.141592653589793238 * dayofmonth(df[\"date_time\"]) / 31))\n",
    "\n",
    "df_scaled = df_scaled.withColumn(\"date_time_hour_sin\", sin(2 * 3.141592653589793238 * hour(df[\"date_time\"]) / 24))\n",
    "df_scaled = df_scaled.withColumn(\"date_time_hour_cos\", cos(2 * 3.141592653589793238 * hour(df[\"date_time\"]) / 24))\n",
    "\n",
    "df_scaled = df_scaled.withColumn(\"date_time_minute_sin\", sin(2 * 3.141592653589793238 * minute(df[\"date_time\"]) / 60))\n",
    "df_scaled = df_scaled.withColumn(\"date_time_minute_cos\", cos(2 * 3.141592653589793238 * minute(df[\"date_time\"]) / 60))\n",
    "\n",
    "# Drop original date_time and date components columns\n",
    "df_scaled = df_scaled.drop(\"date_time\", \"year\", \"month\", \"day\", \"hour\", \"minute\")"
   ]
  },
  {
   "cell_type": "code",
   "execution_count": 11,
   "id": "0ceefdee-4694-4016-a5c7-df184f9a5484",
   "metadata": {},
   "outputs": [
    {
     "data": {
      "text/plain": [
       "['total_snow',\n",
       " 'city_id',\n",
       " 'sun_hour_Scaled',\n",
       " 'uv_index_1_Scaled',\n",
       " 'uv_index_2_Scaled',\n",
       " 'moon_illumunation_Scaled',\n",
       " 'dew_point_Scaled',\n",
       " 'wind_gust_Scaled',\n",
       " 'cloudcover_Scaled',\n",
       " 'humidity_Scaled',\n",
       " 'visibility_Scaled',\n",
       " 'wind_speed_Scaled',\n",
       " 'max_temp_Scaled',\n",
       " 'min_temp_Scaled',\n",
       " 'feels_like_Scaled',\n",
       " 'heat_index_Scaled',\n",
       " 'wind_chill_Scaled',\n",
       " 'precip_Scaled',\n",
       " 'pressure_Scaled',\n",
       " 'temp_Scaled',\n",
       " 'wind_dir_sin',\n",
       " 'wind_dir_cos',\n",
       " 'date_time_year_sin',\n",
       " 'date_time_year_cos',\n",
       " 'date_time_month_sin',\n",
       " 'date_time_month_cos',\n",
       " 'date_time_day_sin',\n",
       " 'date_time_day_cos',\n",
       " 'date_time_hour_sin',\n",
       " 'date_time_hour_cos',\n",
       " 'date_time_minute_sin',\n",
       " 'date_time_minute_cos']"
      ]
     },
     "execution_count": 11,
     "metadata": {},
     "output_type": "execute_result"
    }
   ],
   "source": [
    "df_scaled.columns"
   ]
  },
  {
   "cell_type": "code",
   "execution_count": null,
   "id": "107a0c60-69cd-4399-85db-d456b6afd128",
   "metadata": {},
   "outputs": [],
   "source": []
  },
  {
   "cell_type": "code",
   "execution_count": 12,
   "id": "ca796964-09f2-4741-bba1-165a574ca8f6",
   "metadata": {},
   "outputs": [
    {
     "name": "stdout",
     "output_type": "stream",
     "text": [
      "Shape of DataFrame: (771456, 32)\n"
     ]
    }
   ],
   "source": [
    "print(\"Shape of DataFrame: ({}, {})\".format(df_scaled.count(), len(df_scaled.columns)))"
   ]
  },
  {
   "cell_type": "code",
   "execution_count": 13,
   "id": "7ea4a6f9-0c40-4f78-a2ef-0406958d2605",
   "metadata": {},
   "outputs": [
    {
     "name": "stdout",
     "output_type": "stream",
     "text": [
      "Shape of DataFrame: (771456, 32)\n"
     ]
    }
   ],
   "source": [
    "df.dropna()\n",
    "print(\"Shape of DataFrame: ({}, {})\".format(df_scaled.count(), len(df_scaled.columns)))"
   ]
  },
  {
   "cell_type": "code",
   "execution_count": 14,
   "id": "ee7d3273-3729-4486-9c68-bf6ce2b81af6",
   "metadata": {},
   "outputs": [
    {
     "name": "stdout",
     "output_type": "stream",
     "text": [
      "['3', '4', '8', '6', '5', '7', '1', '2', 'total_snow', 'sun_hour_Scaled', 'uv_index_1_Scaled', 'uv_index_2_Scaled', 'moon_illumunation_Scaled', 'dew_point_Scaled', 'wind_gust_Scaled', 'cloudcover_Scaled', 'humidity_Scaled', 'visibility_Scaled', 'wind_speed_Scaled', 'max_temp_Scaled', 'min_temp_Scaled', 'feels_like_Scaled', 'heat_index_Scaled', 'wind_chill_Scaled', 'precip_Scaled', 'pressure_Scaled', 'temp_Scaled', 'wind_dir_sin', 'wind_dir_cos', 'date_time_year_sin', 'date_time_year_cos', 'date_time_month_sin', 'date_time_month_cos', 'date_time_day_sin', 'date_time_day_cos', 'date_time_hour_sin', 'date_time_hour_cos', 'date_time_minute_sin', 'date_time_minute_cos']\n",
      "(771456, 39)\n"
     ]
    }
   ],
   "source": [
    "# One-hot encode categorical variable 'city_id'\n",
    "# encoder = OneHotEncoder(inputCols=[\"city_id\"], outputCols=[\"city_id_encoded\"])\n",
    "# df_encoded = encoder.fit(df_scaled).transform(df_scaled)\n",
    "\n",
    "import pyspark.sql.functions as F \n",
    "\n",
    "categ = df_scaled.select('city_id').distinct().rdd.flatMap(lambda x:x).collect()\n",
    "exprs = [F.when(F.col('city_id') == cat,1).otherwise(0)\\\n",
    "            .alias(str(cat)) for cat in categ]\n",
    "df_encoded = df_scaled.select(exprs+df_scaled.columns)\n",
    "\n",
    "# Drop original 'city_id' column\n",
    "df_encoded = df_encoded.drop(\"city_id\")\n",
    "\n",
    "print(df_encoded.columns)\n",
    "print((df_encoded.count(), len(df_encoded.columns)))"
   ]
  },
  {
   "cell_type": "code",
   "execution_count": 15,
   "id": "87075c9e-ed38-4f45-883a-6525dbde560e",
   "metadata": {},
   "outputs": [
    {
     "name": "stdout",
     "output_type": "stream",
     "text": [
      "root\n",
      " |-- 3: integer (nullable = false)\n",
      " |-- 4: integer (nullable = false)\n",
      " |-- 8: integer (nullable = false)\n",
      " |-- 6: integer (nullable = false)\n",
      " |-- 5: integer (nullable = false)\n",
      " |-- 7: integer (nullable = false)\n",
      " |-- 1: integer (nullable = false)\n",
      " |-- 2: integer (nullable = false)\n",
      " |-- total_snow: decimal(10,5) (nullable = true)\n",
      " |-- sun_hour_Scaled: double (nullable = true)\n",
      " |-- uv_index_1_Scaled: double (nullable = true)\n",
      " |-- uv_index_2_Scaled: double (nullable = true)\n",
      " |-- moon_illumunation_Scaled: double (nullable = true)\n",
      " |-- dew_point_Scaled: double (nullable = true)\n",
      " |-- wind_gust_Scaled: double (nullable = true)\n",
      " |-- cloudcover_Scaled: double (nullable = true)\n",
      " |-- humidity_Scaled: double (nullable = true)\n",
      " |-- visibility_Scaled: double (nullable = true)\n",
      " |-- wind_speed_Scaled: double (nullable = true)\n",
      " |-- max_temp_Scaled: double (nullable = true)\n",
      " |-- min_temp_Scaled: double (nullable = true)\n",
      " |-- feels_like_Scaled: double (nullable = true)\n",
      " |-- heat_index_Scaled: double (nullable = true)\n",
      " |-- wind_chill_Scaled: double (nullable = true)\n",
      " |-- precip_Scaled: double (nullable = true)\n",
      " |-- pressure_Scaled: double (nullable = true)\n",
      " |-- temp_Scaled: double (nullable = true)\n",
      " |-- wind_dir_sin: double (nullable = true)\n",
      " |-- wind_dir_cos: double (nullable = true)\n",
      " |-- date_time_year_sin: double (nullable = true)\n",
      " |-- date_time_year_cos: double (nullable = true)\n",
      " |-- date_time_month_sin: double (nullable = true)\n",
      " |-- date_time_month_cos: double (nullable = true)\n",
      " |-- date_time_day_sin: double (nullable = true)\n",
      " |-- date_time_day_cos: double (nullable = true)\n",
      " |-- date_time_hour_sin: double (nullable = true)\n",
      " |-- date_time_hour_cos: double (nullable = true)\n",
      " |-- date_time_minute_sin: double (nullable = true)\n",
      " |-- date_time_minute_cos: double (nullable = true)\n",
      "\n"
     ]
    }
   ],
   "source": [
    "df_encoded.printSchema()"
   ]
  },
  {
   "cell_type": "code",
   "execution_count": 16,
   "id": "bbcc65ad-572c-4894-85de-500c9986a35d",
   "metadata": {},
   "outputs": [
    {
     "name": "stdout",
     "output_type": "stream",
     "text": [
      "+---+---+---+---+---+---+---+---+----------+---------------+-----------------+-----------------+------------------------+----------------+----------------+-----------------+---------------+-----------------+-----------------+---------------+---------------+-----------------+-----------------+-----------------+-------------+---------------+-----------+-------------------+-------------------+------------------+------------------+--------------------+-------------------+--------------------+------------------+--------------------+--------------------+--------------------+--------------------+\n",
      "|  3|  4|  8|  6|  5|  7|  1|  2|total_snow|sun_hour_Scaled|uv_index_1_Scaled|uv_index_2_Scaled|moon_illumunation_Scaled|dew_point_Scaled|wind_gust_Scaled|cloudcover_Scaled|humidity_Scaled|visibility_Scaled|wind_speed_Scaled|max_temp_Scaled|min_temp_Scaled|feels_like_Scaled|heat_index_Scaled|wind_chill_Scaled|precip_Scaled|pressure_Scaled|temp_Scaled|       wind_dir_sin|       wind_dir_cos|date_time_year_sin|date_time_year_cos| date_time_month_sin|date_time_month_cos|   date_time_day_sin| date_time_day_cos|  date_time_hour_sin|  date_time_hour_cos|date_time_minute_sin|date_time_minute_cos|\n",
      "+---+---+---+---+---+---+---+---+----------+---------------+-----------------+-----------------+------------------------+----------------+----------------+-----------------+---------------+-----------------+-----------------+---------------+---------------+-----------------+-----------------+-----------------+-------------+---------------+-----------+-------------------+-------------------+------------------+------------------+--------------------+-------------------+--------------------+------------------+--------------------+--------------------+--------------------+--------------------+\n",
      "|  0|  1|  0|  0|  0|  0|  0|  0|   0.00000|           0.48|            0.125|              0.0|                    0.31|           0.453|           0.247|             0.17|           0.49|              0.5|            0.213|          4.305|            1.7|            1.479|            1.648|            1.667|          0.0|        173.861|      1.636|-0.6427876096865396| 0.7660444431189778|0.4817536741017153|0.8763066800438636|-2.44929359829470...|                1.0|-2.44929359829470...|               1.0| -0.7071067811865477|  0.7071067811865474|                 0.0|                 1.0|\n",
      "|  0|  1|  0|  0|  0|  0|  0|  0|   0.00000|           0.48|            0.125|              0.0|                    0.31|           0.472|           0.259|             0.11|           0.51|              0.5|            0.234|          4.305|            1.7|            1.614|            1.786|            1.818|          0.0|        173.861|      1.636|-0.7071067811865477| 0.7071067811865474|0.4817536741017153|0.8763066800438636|-2.44929359829470...|                1.0|-2.44929359829470...|               1.0| -0.5000000000000004|  0.8660254037844384|                 0.0|                 1.0|\n",
      "|  0|  1|  0|  0|  0|  0|  0|  0|   0.00000|           0.48|            0.125|              0.0|                    0.31|           0.491|           0.271|             0.06|          0.541|              0.5|            0.234|          4.305|            1.7|            1.614|            1.786|            1.818|          0.0|        173.861|      1.636|-0.7660444431189781| 0.6427876096865393|0.4817536741017153|0.8763066800438636|-2.44929359829470...|                1.0|-2.44929359829470...|               1.0|-0.25881904510252157|  0.9659258262890681|                 0.0|                 1.0|\n",
      "|  0|  1|  0|  0|  0|  0|  0|  0|   0.00000|           0.48|            0.125|              0.0|                    0.31|           0.509|           0.271|              0.0|          0.561|              0.5|            0.255|          4.305|            1.7|            1.614|            1.786|            1.818|          0.0|        173.861|      1.487|-0.8290375725550416|  0.559192903470747|0.5358267949789967|0.8443279255020151| 0.49999999999999994| 0.8660254037844387| 0.20129852008866006|0.9795299412524945|                 0.0|                 1.0|                 0.0|                 1.0|\n",
      "|  0|  1|  0|  0|  0|  0|  0|  0|   0.00000|           0.48|            0.125|              0.0|                    0.31|           0.509|           0.224|              0.0|          0.531|              0.5|            0.234|          4.305|            1.7|            1.883|            1.923|            2.122|          0.0|        174.033|      1.636|-0.8480480961564261| 0.5299192642332047|0.5358267949789967|0.8443279255020151| 0.49999999999999994| 0.8660254037844387| 0.20129852008866006|0.9795299412524945| 0.25881904510252074|  0.9659258262890683|                 0.0|                 1.0|\n",
      "|  0|  1|  0|  0|  0|  0|  0|  0|   0.00000|           0.48|            0.125|              0.0|                    0.31|           0.528|           0.176|              0.0|           0.51|              0.5|            0.213|          4.305|            1.7|            2.151|            2.198|            2.425|          0.0|        174.033|      1.784|-0.8571673007021123| 0.5150380749100542|0.5358267949789967|0.8443279255020151| 0.49999999999999994| 0.8660254037844387| 0.20129852008866006|0.9795299412524945| 0.49999999999999994|  0.8660254037844387|                 0.0|                 1.0|\n",
      "|  0|  1|  0|  0|  0|  0|  0|  0|   0.00000|           0.48|            0.125|              0.3|                    0.31|           0.528|           0.118|              0.0|           0.48|              0.5|            0.191|          4.305|            1.7|            2.286|            2.335|            2.576|          0.0|        174.204|      2.082|-0.8746197071393956| 0.4848096202463373|0.5358267949789967|0.8443279255020151| 0.49999999999999994| 0.8660254037844387| 0.20129852008866006|0.9795299412524945|  0.7071067811865475|  0.7071067811865476|                 0.0|                 1.0|\n",
      "|  0|  1|  0|  0|  0|  0|  0|  0|   0.00000|           0.48|            0.125|              0.4|                    0.31|           0.547|           0.118|              0.0|          0.429|              0.5|            0.191|          4.305|            1.7|            2.689|            2.747|            3.031|          0.0|        174.204|      2.379| -0.891006524188368|0.45399049973954664|0.5358267949789967|0.8443279255020151| 0.49999999999999994| 0.8660254037844387| 0.20129852008866006|0.9795299412524945|  0.8660254037844386|  0.5000000000000001|                 0.0|                 1.0|\n",
      "|  0|  1|  0|  0|  0|  0|  0|  0|   0.00000|           0.48|            0.125|              0.4|                    0.31|           0.547|           0.118|              0.0|          0.367|              0.5|             0.17|          4.305|            1.7|            3.093|            3.022|            3.485|          0.0|        174.204|      2.825| -0.898794046299167| 0.4383711467890774|0.5358267949789967|0.8443279255020151| 0.49999999999999994| 0.8660254037844387| 0.20129852008866006|0.9795299412524945|  0.9659258262890683| 0.25881904510252074|                 0.0|                 1.0|\n",
      "|  0|  1|  0|  0|  0|  0|  0|  0|   0.00000|           0.48|            0.125|              0.5|                    0.31|           0.566|           0.106|              0.0|          0.316|              0.5|             0.17|          4.305|            1.7|            3.362|            3.434|            3.788|          0.0|        174.204|      3.123|-0.9063077870366503|0.42261826174069883|0.5358267949789967|0.8443279255020151| 0.49999999999999994| 0.8660254037844387| 0.20129852008866006|0.9795299412524945|                 1.0|6.123233995736766...|                 0.0|                 1.0|\n",
      "+---+---+---+---+---+---+---+---+----------+---------------+-----------------+-----------------+------------------------+----------------+----------------+-----------------+---------------+-----------------+-----------------+---------------+---------------+-----------------+-----------------+-----------------+-------------+---------------+-----------+-------------------+-------------------+------------------+------------------+--------------------+-------------------+--------------------+------------------+--------------------+--------------------+--------------------+--------------------+\n",
      "only showing top 10 rows\n",
      "\n"
     ]
    }
   ],
   "source": [
    "df_encoded.show(10)"
   ]
  },
  {
   "cell_type": "code",
   "execution_count": 17,
   "id": "40636a77-6e15-4e6f-9304-a7313706fbc6",
   "metadata": {},
   "outputs": [],
   "source": [
    "# Save the preprocessed data to a new table\n",
    "table_name = \"team29_projectdb.dataset_prepared_for_modeling\"\n",
    "df_encoded.write.mode(\"overwrite\").saveAsTable(table_name)"
   ]
  },
  {
   "cell_type": "code",
   "execution_count": null,
   "id": "529f9bbf-6fe1-4df6-9e75-085aa8ce395b",
   "metadata": {},
   "outputs": [],
   "source": []
  }
 ],
 "metadata": {
  "kernelspec": {
   "display_name": "Python 3",
   "language": "python",
   "name": "python3"
  },
  "language_info": {
   "codemirror_mode": {
    "name": "ipython",
    "version": 3
   },
   "file_extension": ".py",
   "mimetype": "text/x-python",
   "name": "python",
   "nbconvert_exporter": "python",
   "pygments_lexer": "ipython3",
   "version": "3.6.8"
  }
 },
 "nbformat": 4,
 "nbformat_minor": 5
}
